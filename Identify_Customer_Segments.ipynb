{
 "cells": [
  {
   "cell_type": "markdown",
   "metadata": {},
   "source": [
    "# Project: Identify Customer Segments\n",
    "\n",
    "In this project, you will apply unsupervised learning techniques to identify segments of the population that form the core customer base for a mail-order sales company in Germany. These segments can then be used to direct marketing campaigns towards audiences that will have the highest expected rate of returns. The data that you will use has been provided by our partners at Bertelsmann Arvato Analytics, and represents a real-life data science task.\n",
    "\n",
    "This notebook will help you complete this task by providing a framework within which you will perform your analysis steps. In each step of the project, you will see some text describing the subtask that you will perform, followed by one or more code cells for you to complete your work. **Feel free to add additional code and markdown cells as you go along so that you can explore everything in precise chunks.** The code cells provided in the base template will outline only the major tasks, and will usually not be enough to cover all of the minor tasks that comprise it.\n",
    "\n",
    "It should be noted that while there will be precise guidelines on how you should handle certain tasks in the project, there will also be places where an exact specification is not provided. **There will be times in the project where you will need to make and justify your own decisions on how to treat the data.** These are places where there may not be only one way to handle the data. In real-life tasks, there may be many valid ways to approach an analysis task. One of the most important things you can do is clearly document your approach so that other scientists can understand the decisions you've made.\n",
    "\n",
    "At the end of most sections, there will be a Markdown cell labeled **Discussion**. In these cells, you will report your findings for the completed section, as well as document the decisions that you made in your approach to each subtask. **Your project will be evaluated not just on the code used to complete the tasks outlined, but also your communication about your observations and conclusions at each stage.**"
   ]
  },
  {
   "cell_type": "code",
   "execution_count": 120,
   "metadata": {},
   "outputs": [
    {
     "data": {
      "text/plain": [
       "'\\nImport note: The classroom currently uses sklearn version 0.19.\\nIf you need to use an imputer, it is available in sklearn.preprocessing.Imputer,\\ninstead of sklearn.impute as in newer versions of sklearn.\\n'"
      ]
     },
     "execution_count": 120,
     "metadata": {},
     "output_type": "execute_result"
    }
   ],
   "source": [
    "# import libraries here; add more as necessary\n",
    "import numpy as np\n",
    "import pandas as pd\n",
    "import matplotlib.pyplot as plt\n",
    "import seaborn as sns\n",
    "\n",
    "# magic word for producing visualizations in notebook\n",
    "%matplotlib inline\n",
    "\n",
    "'''\n",
    "Import note: The classroom currently uses sklearn version 0.19.\n",
    "If you need to use an imputer, it is available in sklearn.preprocessing.Imputer,\n",
    "instead of sklearn.impute as in newer versions of sklearn.\n",
    "'''"
   ]
  },
  {
   "cell_type": "markdown",
   "metadata": {},
   "source": [
    "### Step 0: Load the Data\n",
    "\n",
    "There are four files associated with this project (not including this one):\n",
    "\n",
    "- `Udacity_AZDIAS_Subset.csv`: Demographics data for the general population of Germany; 891211 persons (rows) x 85 features (columns).\n",
    "- `Udacity_CUSTOMERS_Subset.csv`: Demographics data for customers of a mail-order company; 191652 persons (rows) x 85 features (columns).\n",
    "- `Data_Dictionary.md`: Detailed information file about the features in the provided datasets.\n",
    "- `AZDIAS_Feature_Summary.csv`: Summary of feature attributes for demographics data; 85 features (rows) x 4 columns\n",
    "\n",
    "Each row of the demographics files represents a single person, but also includes information outside of individuals, including information about their household, building, and neighborhood. You will use this information to cluster the general population into groups with similar demographic properties. Then, you will see how the people in the customers dataset fit into those created clusters. The hope here is that certain clusters are over-represented in the customers data, as compared to the general population; those over-represented clusters will be assumed to be part of the core userbase. This information can then be used for further applications, such as targeting for a marketing campaign.\n",
    "\n",
    "To start off with, load in the demographics data for the general population into a pandas DataFrame, and do the same for the feature attributes summary. Note for all of the `.csv` data files in this project: they're semicolon (`;`) delimited, so you'll need an additional argument in your [`read_csv()`](https://pandas.pydata.org/pandas-docs/stable/generated/pandas.read_csv.html) call to read in the data properly. Also, considering the size of the main dataset, it may take some time for it to load completely.\n",
    "\n",
    "Once the dataset is loaded, it's recommended that you take a little bit of time just browsing the general structure of the dataset and feature summary file. You'll be getting deep into the innards of the cleaning in the first major step of the project, so gaining some general familiarity can help you get your bearings."
   ]
  },
  {
   "cell_type": "code",
   "execution_count": 121,
   "metadata": {},
   "outputs": [],
   "source": [
    "# Load in the general demographics data.\n",
    "azdias = pd.read_csv('Udacity_AZDIAS_Subset.csv',sep=';')\n",
    "\n",
    "# Load in the feature summary file.\n",
    "feat_info = pd.read_csv('AZDIAS_Feature_Summary.csv',sep=';')"
   ]
  },
  {
   "cell_type": "code",
   "execution_count": 122,
   "metadata": {},
   "outputs": [
    {
     "data": {
      "text/html": [
       "<div>\n",
       "<style scoped>\n",
       "    .dataframe tbody tr th:only-of-type {\n",
       "        vertical-align: middle;\n",
       "    }\n",
       "\n",
       "    .dataframe tbody tr th {\n",
       "        vertical-align: top;\n",
       "    }\n",
       "\n",
       "    .dataframe thead th {\n",
       "        text-align: right;\n",
       "    }\n",
       "</style>\n",
       "<table border=\"1\" class=\"dataframe\">\n",
       "  <thead>\n",
       "    <tr style=\"text-align: right;\">\n",
       "      <th></th>\n",
       "      <th>AGER_TYP</th>\n",
       "      <th>ALTERSKATEGORIE_GROB</th>\n",
       "      <th>ANREDE_KZ</th>\n",
       "      <th>CJT_GESAMTTYP</th>\n",
       "      <th>FINANZ_MINIMALIST</th>\n",
       "      <th>FINANZ_SPARER</th>\n",
       "      <th>FINANZ_VORSORGER</th>\n",
       "      <th>FINANZ_ANLEGER</th>\n",
       "      <th>FINANZ_UNAUFFAELLIGER</th>\n",
       "      <th>FINANZ_HAUSBAUER</th>\n",
       "      <th>...</th>\n",
       "      <th>PLZ8_ANTG1</th>\n",
       "      <th>PLZ8_ANTG2</th>\n",
       "      <th>PLZ8_ANTG3</th>\n",
       "      <th>PLZ8_ANTG4</th>\n",
       "      <th>PLZ8_BAUMAX</th>\n",
       "      <th>PLZ8_HHZ</th>\n",
       "      <th>PLZ8_GBZ</th>\n",
       "      <th>ARBEIT</th>\n",
       "      <th>ORTSGR_KLS9</th>\n",
       "      <th>RELAT_AB</th>\n",
       "    </tr>\n",
       "  </thead>\n",
       "  <tbody>\n",
       "    <tr>\n",
       "      <th>count</th>\n",
       "      <td>891221.000000</td>\n",
       "      <td>891221.000000</td>\n",
       "      <td>891221.000000</td>\n",
       "      <td>886367.000000</td>\n",
       "      <td>891221.000000</td>\n",
       "      <td>891221.000000</td>\n",
       "      <td>891221.000000</td>\n",
       "      <td>891221.000000</td>\n",
       "      <td>891221.000000</td>\n",
       "      <td>891221.000000</td>\n",
       "      <td>...</td>\n",
       "      <td>774706.000000</td>\n",
       "      <td>774706.000000</td>\n",
       "      <td>774706.000000</td>\n",
       "      <td>774706.000000</td>\n",
       "      <td>774706.000000</td>\n",
       "      <td>774706.000000</td>\n",
       "      <td>774706.000000</td>\n",
       "      <td>794005.000000</td>\n",
       "      <td>794005.000000</td>\n",
       "      <td>794005.00000</td>\n",
       "    </tr>\n",
       "    <tr>\n",
       "      <th>mean</th>\n",
       "      <td>-0.358435</td>\n",
       "      <td>2.777398</td>\n",
       "      <td>1.522098</td>\n",
       "      <td>3.632838</td>\n",
       "      <td>3.074528</td>\n",
       "      <td>2.821039</td>\n",
       "      <td>3.401106</td>\n",
       "      <td>3.033328</td>\n",
       "      <td>2.874167</td>\n",
       "      <td>3.075121</td>\n",
       "      <td>...</td>\n",
       "      <td>2.253330</td>\n",
       "      <td>2.801858</td>\n",
       "      <td>1.595426</td>\n",
       "      <td>0.699166</td>\n",
       "      <td>1.943913</td>\n",
       "      <td>3.612821</td>\n",
       "      <td>3.381087</td>\n",
       "      <td>3.167854</td>\n",
       "      <td>5.293002</td>\n",
       "      <td>3.07222</td>\n",
       "    </tr>\n",
       "    <tr>\n",
       "      <th>std</th>\n",
       "      <td>1.198724</td>\n",
       "      <td>1.068775</td>\n",
       "      <td>0.499512</td>\n",
       "      <td>1.595021</td>\n",
       "      <td>1.321055</td>\n",
       "      <td>1.464749</td>\n",
       "      <td>1.322134</td>\n",
       "      <td>1.529603</td>\n",
       "      <td>1.486731</td>\n",
       "      <td>1.353248</td>\n",
       "      <td>...</td>\n",
       "      <td>0.972008</td>\n",
       "      <td>0.920309</td>\n",
       "      <td>0.986736</td>\n",
       "      <td>0.727137</td>\n",
       "      <td>1.459654</td>\n",
       "      <td>0.973967</td>\n",
       "      <td>1.111598</td>\n",
       "      <td>1.002376</td>\n",
       "      <td>2.303739</td>\n",
       "      <td>1.36298</td>\n",
       "    </tr>\n",
       "    <tr>\n",
       "      <th>min</th>\n",
       "      <td>-1.000000</td>\n",
       "      <td>1.000000</td>\n",
       "      <td>1.000000</td>\n",
       "      <td>1.000000</td>\n",
       "      <td>1.000000</td>\n",
       "      <td>1.000000</td>\n",
       "      <td>1.000000</td>\n",
       "      <td>1.000000</td>\n",
       "      <td>1.000000</td>\n",
       "      <td>1.000000</td>\n",
       "      <td>...</td>\n",
       "      <td>0.000000</td>\n",
       "      <td>0.000000</td>\n",
       "      <td>0.000000</td>\n",
       "      <td>0.000000</td>\n",
       "      <td>1.000000</td>\n",
       "      <td>1.000000</td>\n",
       "      <td>1.000000</td>\n",
       "      <td>1.000000</td>\n",
       "      <td>0.000000</td>\n",
       "      <td>1.00000</td>\n",
       "    </tr>\n",
       "    <tr>\n",
       "      <th>25%</th>\n",
       "      <td>-1.000000</td>\n",
       "      <td>2.000000</td>\n",
       "      <td>1.000000</td>\n",
       "      <td>2.000000</td>\n",
       "      <td>2.000000</td>\n",
       "      <td>1.000000</td>\n",
       "      <td>3.000000</td>\n",
       "      <td>2.000000</td>\n",
       "      <td>2.000000</td>\n",
       "      <td>2.000000</td>\n",
       "      <td>...</td>\n",
       "      <td>1.000000</td>\n",
       "      <td>2.000000</td>\n",
       "      <td>1.000000</td>\n",
       "      <td>0.000000</td>\n",
       "      <td>1.000000</td>\n",
       "      <td>3.000000</td>\n",
       "      <td>3.000000</td>\n",
       "      <td>3.000000</td>\n",
       "      <td>4.000000</td>\n",
       "      <td>2.00000</td>\n",
       "    </tr>\n",
       "    <tr>\n",
       "      <th>50%</th>\n",
       "      <td>-1.000000</td>\n",
       "      <td>3.000000</td>\n",
       "      <td>2.000000</td>\n",
       "      <td>4.000000</td>\n",
       "      <td>3.000000</td>\n",
       "      <td>3.000000</td>\n",
       "      <td>3.000000</td>\n",
       "      <td>3.000000</td>\n",
       "      <td>3.000000</td>\n",
       "      <td>3.000000</td>\n",
       "      <td>...</td>\n",
       "      <td>2.000000</td>\n",
       "      <td>3.000000</td>\n",
       "      <td>2.000000</td>\n",
       "      <td>1.000000</td>\n",
       "      <td>1.000000</td>\n",
       "      <td>4.000000</td>\n",
       "      <td>3.000000</td>\n",
       "      <td>3.000000</td>\n",
       "      <td>5.000000</td>\n",
       "      <td>3.00000</td>\n",
       "    </tr>\n",
       "    <tr>\n",
       "      <th>75%</th>\n",
       "      <td>-1.000000</td>\n",
       "      <td>4.000000</td>\n",
       "      <td>2.000000</td>\n",
       "      <td>5.000000</td>\n",
       "      <td>4.000000</td>\n",
       "      <td>4.000000</td>\n",
       "      <td>5.000000</td>\n",
       "      <td>5.000000</td>\n",
       "      <td>4.000000</td>\n",
       "      <td>4.000000</td>\n",
       "      <td>...</td>\n",
       "      <td>3.000000</td>\n",
       "      <td>3.000000</td>\n",
       "      <td>2.000000</td>\n",
       "      <td>1.000000</td>\n",
       "      <td>3.000000</td>\n",
       "      <td>4.000000</td>\n",
       "      <td>4.000000</td>\n",
       "      <td>4.000000</td>\n",
       "      <td>7.000000</td>\n",
       "      <td>4.00000</td>\n",
       "    </tr>\n",
       "    <tr>\n",
       "      <th>max</th>\n",
       "      <td>3.000000</td>\n",
       "      <td>9.000000</td>\n",
       "      <td>2.000000</td>\n",
       "      <td>6.000000</td>\n",
       "      <td>5.000000</td>\n",
       "      <td>5.000000</td>\n",
       "      <td>5.000000</td>\n",
       "      <td>5.000000</td>\n",
       "      <td>5.000000</td>\n",
       "      <td>5.000000</td>\n",
       "      <td>...</td>\n",
       "      <td>4.000000</td>\n",
       "      <td>4.000000</td>\n",
       "      <td>3.000000</td>\n",
       "      <td>2.000000</td>\n",
       "      <td>5.000000</td>\n",
       "      <td>5.000000</td>\n",
       "      <td>5.000000</td>\n",
       "      <td>9.000000</td>\n",
       "      <td>9.000000</td>\n",
       "      <td>9.00000</td>\n",
       "    </tr>\n",
       "  </tbody>\n",
       "</table>\n",
       "<p>8 rows × 81 columns</p>\n",
       "</div>"
      ],
      "text/plain": [
       "            AGER_TYP  ALTERSKATEGORIE_GROB      ANREDE_KZ  CJT_GESAMTTYP  \\\n",
       "count  891221.000000         891221.000000  891221.000000  886367.000000   \n",
       "mean       -0.358435              2.777398       1.522098       3.632838   \n",
       "std         1.198724              1.068775       0.499512       1.595021   \n",
       "min        -1.000000              1.000000       1.000000       1.000000   \n",
       "25%        -1.000000              2.000000       1.000000       2.000000   \n",
       "50%        -1.000000              3.000000       2.000000       4.000000   \n",
       "75%        -1.000000              4.000000       2.000000       5.000000   \n",
       "max         3.000000              9.000000       2.000000       6.000000   \n",
       "\n",
       "       FINANZ_MINIMALIST  FINANZ_SPARER  FINANZ_VORSORGER  FINANZ_ANLEGER  \\\n",
       "count      891221.000000  891221.000000     891221.000000   891221.000000   \n",
       "mean            3.074528       2.821039          3.401106        3.033328   \n",
       "std             1.321055       1.464749          1.322134        1.529603   \n",
       "min             1.000000       1.000000          1.000000        1.000000   \n",
       "25%             2.000000       1.000000          3.000000        2.000000   \n",
       "50%             3.000000       3.000000          3.000000        3.000000   \n",
       "75%             4.000000       4.000000          5.000000        5.000000   \n",
       "max             5.000000       5.000000          5.000000        5.000000   \n",
       "\n",
       "       FINANZ_UNAUFFAELLIGER  FINANZ_HAUSBAUER      ...          PLZ8_ANTG1  \\\n",
       "count          891221.000000     891221.000000      ...       774706.000000   \n",
       "mean                2.874167          3.075121      ...            2.253330   \n",
       "std                 1.486731          1.353248      ...            0.972008   \n",
       "min                 1.000000          1.000000      ...            0.000000   \n",
       "25%                 2.000000          2.000000      ...            1.000000   \n",
       "50%                 3.000000          3.000000      ...            2.000000   \n",
       "75%                 4.000000          4.000000      ...            3.000000   \n",
       "max                 5.000000          5.000000      ...            4.000000   \n",
       "\n",
       "          PLZ8_ANTG2     PLZ8_ANTG3     PLZ8_ANTG4    PLZ8_BAUMAX  \\\n",
       "count  774706.000000  774706.000000  774706.000000  774706.000000   \n",
       "mean        2.801858       1.595426       0.699166       1.943913   \n",
       "std         0.920309       0.986736       0.727137       1.459654   \n",
       "min         0.000000       0.000000       0.000000       1.000000   \n",
       "25%         2.000000       1.000000       0.000000       1.000000   \n",
       "50%         3.000000       2.000000       1.000000       1.000000   \n",
       "75%         3.000000       2.000000       1.000000       3.000000   \n",
       "max         4.000000       3.000000       2.000000       5.000000   \n",
       "\n",
       "            PLZ8_HHZ       PLZ8_GBZ         ARBEIT    ORTSGR_KLS9  \\\n",
       "count  774706.000000  774706.000000  794005.000000  794005.000000   \n",
       "mean        3.612821       3.381087       3.167854       5.293002   \n",
       "std         0.973967       1.111598       1.002376       2.303739   \n",
       "min         1.000000       1.000000       1.000000       0.000000   \n",
       "25%         3.000000       3.000000       3.000000       4.000000   \n",
       "50%         4.000000       3.000000       3.000000       5.000000   \n",
       "75%         4.000000       4.000000       4.000000       7.000000   \n",
       "max         5.000000       5.000000       9.000000       9.000000   \n",
       "\n",
       "           RELAT_AB  \n",
       "count  794005.00000  \n",
       "mean        3.07222  \n",
       "std         1.36298  \n",
       "min         1.00000  \n",
       "25%         2.00000  \n",
       "50%         3.00000  \n",
       "75%         4.00000  \n",
       "max         9.00000  \n",
       "\n",
       "[8 rows x 81 columns]"
      ]
     },
     "execution_count": 122,
     "metadata": {},
     "output_type": "execute_result"
    }
   ],
   "source": [
    "# Check the structure of the data after it's loaded (e.g. print the number of\n",
    "# rows and columns, print the first few rows).\n",
    "#print(azdias.shape)\n",
    "#print(feat_info)\n",
    "azdias.head()\n",
    "azdias.describe()"
   ]
  },
  {
   "cell_type": "markdown",
   "metadata": {},
   "source": [
    "> **Tip**: Add additional cells to keep everything in reasonably-sized chunks! Keyboard shortcut `esc --> a` (press escape to enter command mode, then press the 'A' key) adds a new cell before the active cell, and `esc --> b` adds a new cell after the active cell. If you need to convert an active cell to a markdown cell, use `esc --> m` and to convert to a code cell, use `esc --> y`. \n",
    "\n",
    "## Step 1: Preprocessing\n",
    "\n",
    "### Step 1.1: Assess Missing Data\n",
    "\n",
    "The feature summary file contains a summary of properties for each demographics data column. You will use this file to help you make cleaning decisions during this stage of the project. First of all, you should assess the demographics data in terms of missing data. Pay attention to the following points as you perform your analysis, and take notes on what you observe. Make sure that you fill in the **Discussion** cell with your findings and decisions at the end of each step that has one!\n",
    "\n",
    "#### Step 1.1.1: Convert Missing Value Codes to NaNs\n",
    "The fourth column of the feature attributes summary (loaded in above as `feat_info`) documents the codes from the data dictionary that indicate missing or unknown data. While the file encodes this as a list (e.g. `[-1,0]`), this will get read in as a string object. You'll need to do a little bit of parsing to make use of it to identify and clean the data. Convert data that matches a 'missing' or 'unknown' value code into a numpy NaN value. You might want to see how much data takes on a 'missing' or 'unknown' code, and how much data is naturally missing, as a point of interest.\n",
    "\n",
    "**As one more reminder, you are encouraged to add additional cells to break up your analysis into manageable chunks.**"
   ]
  },
  {
   "cell_type": "code",
   "execution_count": 123,
   "metadata": {},
   "outputs": [
    {
     "data": {
      "text/plain": [
       "['-1', '0', '9']"
      ]
     },
     "execution_count": 123,
     "metadata": {},
     "output_type": "execute_result"
    }
   ],
   "source": [
    "# Identify missing or unknown data values and convert them to NaNs.\n",
    "#feat_info_list = feat_info.copy()\n",
    "feat_info_list=feat_info['missing_or_unknown'].apply(lambda x: x.strip('[').strip(']').split(','))\n",
    "feat_info_list[1]"
   ]
  },
  {
   "cell_type": "code",
   "execution_count": 124,
   "metadata": {},
   "outputs": [],
   "source": [
    "azdias_nan = azdias.copy()"
   ]
  },
  {
   "cell_type": "code",
   "execution_count": 125,
   "metadata": {},
   "outputs": [],
   "source": [
    "for column in range(len(azdias.columns)):\n",
    "    unknown_list = feat_info_list[column]\n",
    "    for i, item in enumerate(unknown_list):\n",
    "        try:\n",
    "            unknown_list[i] = float(item)\n",
    "        except:\n",
    "            None \n",
    "    azdias_nan.iloc[:,[column]] = azdias.iloc[:,[column]].replace(unknown_list,np.NaN)\n",
    "azdias_nan.fillna(np.NaN)"
   ]
  },
  {
   "cell_type": "code",
   "execution_count": 159,
   "metadata": {},
   "outputs": [
    {
     "data": {
      "text/plain": [
       "8373929"
      ]
     },
     "execution_count": 159,
     "metadata": {},
     "output_type": "execute_result"
    }
   ],
   "source": [
    "#Total number of missing values\n",
    "np.sum(np.sum(azdias_nan.isna()))"
   ]
  },
  {
   "cell_type": "markdown",
   "metadata": {},
   "source": [
    "#### Step 1.1.2: Assess Missing Data in Each Column\n",
    "\n",
    "How much missing data is present in each column? There are a few columns that are outliers in terms of the proportion of values that are missing. You will want to use matplotlib's [`hist()`](https://matplotlib.org/api/_as_gen/matplotlib.pyplot.hist.html) function to visualize the distribution of missing value counts to find these columns. Identify and document these columns. While some of these columns might have justifications for keeping or re-encoding the data, for this project you should just remove them from the dataframe. (Feel free to make remarks about these outlier columns in the discussion, however!)\n",
    "\n",
    "For the remaining features, are there any patterns in which columns have, or share, missing data?"
   ]
  },
  {
   "cell_type": "code",
   "execution_count": 128,
   "metadata": {},
   "outputs": [
    {
     "data": {
      "image/png": "[encoded data removed]",
      "text/plain": [
       "<matplotlib.figure.Figure at 0x7f3cf4ec8ef0>"
      ]
     },
     "metadata": {
      "needs_background": "light"
     },
     "output_type": "display_data"
    }
   ],
   "source": [
    "# Perform an assessment of how much missing data there is in each column of the\n",
    "# dataset.\n",
    "plt.figure(figsize=(5,20))\n",
    "ax = plt.subplot()\n",
    "nan = azdias_nan.isna().sum(axis=0)\n",
    "nan = nan.sort_values()\n",
    "nan_index = nan.index\n",
    "nan = nan.values\n",
    "ax.barh(y = np.arange(len(nan)),width = nan,alpha=0.5)\n",
    "ax.set_yticks(np.arange(len(nan)))\n",
    "ax.set_yticklabels(nan_index);\n",
    "ax.set_ylim([-1,len(nan)+1]);\n",
    "ax.set_xlabel('NaN count');"
   ]
  },
  {
   "cell_type": "code",
   "execution_count": 129,
   "metadata": {},
   "outputs": [
    {
     "name": "stdout",
     "output_type": "stream",
     "text": [
      "28\n",
      "['KBA13_ANZAHL_PKW', 'PRAEGENDE_JUGENDJAHRE', 'NATIONALITAET_KZ', 'HEALTH_TYP', 'VERS_TYP', 'SHOPPER_TYP', 'PLZ8_ANTG2', 'PLZ8_ANTG3', 'PLZ8_ANTG1', 'PLZ8_ANTG4', 'PLZ8_BAUMAX', 'PLZ8_HHZ', 'PLZ8_GBZ', 'KBA05_ANTG3', 'KBA05_ANTG2', 'KBA05_ANTG1', 'MOBI_REGIO', 'KBA05_GBZ', 'KBA05_ANTG4', 'W_KEIT_KIND_HH', 'KKK', 'REGIOTYP', 'ALTER_HH', 'GEBURTSJAHR', 'KBA05_BAUMAX', 'KK_KUNDENTYP', 'AGER_TYP', 'TITEL_KZ']\n",
      "[     0      0      0      0      0      0      0      0      0      0\n",
      "      0      0      0      0      0      0      0      0      0      0\n",
      "      0      0      0      0   2881   4854   4854   4854   4854   4854\n",
      "   4854  18348  73499  73499  73499  73499  73969  77792  77792  93148\n",
      "  93148  93148  93148  93155  93740  93740  93740  94572  97008  97274\n",
      "  97375  97375  97632  99352  99352  99352  99611 105800 108164 108315\n",
      " 111196 111196 111196 116515 116515 116515 116515 116515 116515 116515\n",
      " 133324 133324 133324 133324 133324 133324 147988 158064 158064 310267\n",
      " 392318 476524 584612 685843 889061]\n"
     ]
    }
   ],
   "source": [
    "# Investigate patterns in the amount of missing data in each column.\n",
    "column_nan = []\n",
    "for column, nan_count in zip(nan_index, nan):\n",
    "    if nan_count>100000:\n",
    "        column_nan.append(column)\n",
    "\n",
    "print(len(column_nan))\n",
    "print(column_nan)\n",
    "print(nan)"
   ]
  },
  {
   "cell_type": "code",
   "execution_count": 130,
   "metadata": {},
   "outputs": [
    {
     "data": {
      "text/plain": [
       "(891221, 57)"
      ]
     },
     "execution_count": 130,
     "metadata": {},
     "output_type": "execute_result"
    }
   ],
   "source": [
    "# Remove the outlier columns from the dataset. (You'll perform other data\n",
    "# engineering tasks such as re-encoding and imputation later.)\n",
    "azdias_no_nan = azdias_nan.drop(columns=column_nan)\n",
    "azdias_no_nan.shape"
   ]
  },
  {
   "cell_type": "code",
   "execution_count": 131,
   "metadata": {},
   "outputs": [
    {
     "name": "stdout",
     "output_type": "stream",
     "text": [
      "False\n"
     ]
    }
   ],
   "source": [
    "print('PRAEGENDE_JUGENDJAHRE' in azdias_no_nan.columns)"
   ]
  },
  {
   "cell_type": "markdown",
   "metadata": {},
   "source": [
    "#### Discussion 1.1.2: Assess Missing Data in Each Column\n",
    "\n",
    "28 columns contained > 100,000 NaN values and were removed. Some label groups (such as PLZ8, KBA05, CAMEO) were found to have similar count of NaN. "
   ]
  },
  {
   "cell_type": "markdown",
   "metadata": {},
   "source": [
    "#### Step 1.1.3: Assess Missing Data in Each Row\n",
    "\n",
    "Now, you'll perform a similar assessment for the rows of the dataset. How much data is missing in each row? As with the columns, you should see some groups of points that have a very different numbers of missing values. Divide the data into two subsets: one for data points that are above some threshold for missing values, and a second subset for points below that threshold.\n",
    "\n",
    "In order to know what to do with the outlier rows, we should see if the distribution of data values on columns that are not missing data (or are missing very little data) are similar or different between the two groups. Select at least five of these columns and compare the distribution of values.\n",
    "- You can use seaborn's [`countplot()`](https://seaborn.pydata.org/generated/seaborn.countplot.html) function to create a bar chart of code frequencies and matplotlib's [`subplot()`](https://matplotlib.org/api/_as_gen/matplotlib.pyplot.subplot.html) function to put bar charts for the two subplots side by side.\n",
    "- To reduce repeated code, you might want to write a function that can perform this comparison, taking as one of its arguments a column to be compared.\n",
    "\n",
    "Depending on what you observe in your comparison, this will have implications on how you approach your conclusions later in the analysis. If the distributions of non-missing features look similar between the data with many missing values and the data with few or no missing values, then we could argue that simply dropping those points from the analysis won't present a major issue. On the other hand, if the data with many missing values looks very different from the data with few or no missing values, then we should make a note on those data as special. We'll revisit these data later on. **Either way, you should continue your analysis for now using just the subset of the data with few or no missing values.**"
   ]
  },
  {
   "cell_type": "code",
   "execution_count": 132,
   "metadata": {},
   "outputs": [
    {
     "data": {
      "text/plain": [
       "Text(0,0.5,'Number of rows')"
      ]
     },
     "execution_count": 132,
     "metadata": {},
     "output_type": "execute_result"
    },
    {
     "data": {
      "image/png": "[encoded data removed]",
      "text/plain": [
       "<matplotlib.figure.Figure at 0x7f3cf34e9128>"
      ]
     },
     "metadata": {
      "needs_background": "light"
     },
     "output_type": "display_data"
    },
    {
     "data": {
      "image/png": "[encoded data removed]",
      "text/plain": [
       "<matplotlib.figure.Figure at 0x7f3cf3722ef0>"
      ]
     },
     "metadata": {
      "needs_background": "light"
     },
     "output_type": "display_data"
    }
   ],
   "source": [
    "# How much data is missing in each row of the dataset?\n",
    "nan = azdias_nan.isna().sum(axis=1)\n",
    "nan = nan.sort_values(ascending=False)\n",
    "#nan_index = nan.index\n",
    "nan = nan.values\n",
    "#nan.head(10)\n",
    "plt.figure()\n",
    "plt.hist(nan,bins=np.max(nan), alpha = 0.5, ec='black');\n",
    "plt.xlabel('NaN count')\n",
    "plt.ylabel('Number of rows')\n",
    "\n",
    "plt.figure()\n",
    "plt.hist(nan,bins=np.max(nan), alpha = 0.5, ec='black',cumulative=True,density=True);\n",
    "plt.xlabel('Cumulative NaN count percentage')\n",
    "plt.ylabel('Number of rows')"
   ]
  },
  {
   "cell_type": "code",
   "execution_count": 133,
   "metadata": {},
   "outputs": [],
   "source": [
    "# Write code to divide the data into two subsets based on the number of missing\n",
    "# values in each row.\n",
    "threshold = 10\n",
    "azdias_low_nan = azdias_nan.copy()\n",
    "azdias_low_nan = azdias_nan.loc[azdias_nan.isna().sum(axis=1)>=10]\n",
    "azdias_low_nan.head()\n",
    "\n",
    "azdias_hi_nan = azdias_nan.copy()\n",
    "azdias_hi_nan = azdias_nan.loc[azdias_nan.isna().sum(axis=1)< 10]"
   ]
  },
  {
   "cell_type": "code",
   "execution_count": 134,
   "metadata": {},
   "outputs": [
    {
     "data": {
      "image/png": "[encoded data removed]",
      "text/plain": [
       "<matplotlib.figure.Figure at 0x7f3cf38ad5f8>"
      ]
     },
     "metadata": {
      "needs_background": "light"
     },
     "output_type": "display_data"
    }
   ],
   "source": [
    "# Compare the distribution of values for at least five columns where there are\n",
    "# no or few missing values, between the two subsets.\n",
    "def plot_distrubtions(column):\n",
    "    f, axes = plt.subplots(1, 2, figsize=(10, 4), dpi=100)\n",
    "    sns.countplot(azdias_hi_nan[column],ax=axes[0])\n",
    "    sns.countplot(azdias_low_nan[column],ax=axes[1])\n",
    "    axes[0].set_title('High NaN count')\n",
    "    axes[1].set_title('Low NaN count')\n",
    "plot_distrubtions('LP_STATUS_GROB')    "
   ]
  },
  {
   "cell_type": "markdown",
   "metadata": {},
   "source": [
    "#### Discussion 1.1.3: Assess Missing Data in Each Row\n",
    "Some columns (such as 'TITEL_KZ') show quite similar distributions for rows with few or more missing data. \n",
    "Some columns (such as 'ONLINE_AFFINITAET', 'ALTERSKATEGORIE_GROB', 'GFK_URLAUBERTYP', 'LP_STATUS_GROB') show more different distributions between the two groups. "
   ]
  },
  {
   "cell_type": "markdown",
   "metadata": {},
   "source": [
    "### Step 1.2: Select and Re-Encode Features\n",
    "\n",
    "Checking for missing data isn't the only way in which you can prepare a dataset for analysis. Since the unsupervised learning techniques to be used will only work on data that is encoded numerically, you need to make a few encoding changes or additional assumptions to be able to make progress. In addition, while almost all of the values in the dataset are encoded using numbers, not all of them represent numeric values. Check the third column of the feature summary (`feat_info`) for a summary of types of measurement.\n",
    "- For numeric and interval data, these features can be kept without changes.\n",
    "- Most of the variables in the dataset are ordinal in nature. While ordinal values may technically be non-linear in spacing, make the simplifying assumption that the ordinal variables can be treated as being interval in nature (that is, kept without any changes).\n",
    "- Special handling may be necessary for the remaining two variable types: categorical, and 'mixed'.\n",
    "\n",
    "In the first two parts of this sub-step, you will perform an investigation of the categorical and mixed-type features and make a decision on each of them, whether you will keep, drop, or re-encode each. Then, in the last part, you will create a new data frame with only the selected and engineered columns.\n",
    "\n",
    "Data wrangling is often the trickiest part of the data analysis process, and there's a lot of it to be done here. But stick with it: once you're done with this step, you'll be ready to get to the machine learning parts of the project!"
   ]
  },
  {
   "cell_type": "code",
   "execution_count": 135,
   "metadata": {},
   "outputs": [
    {
     "data": {
      "text/html": [
       "<div>\n",
       "<style scoped>\n",
       "    .dataframe tbody tr th:only-of-type {\n",
       "        vertical-align: middle;\n",
       "    }\n",
       "\n",
       "    .dataframe tbody tr th {\n",
       "        vertical-align: top;\n",
       "    }\n",
       "\n",
       "    .dataframe thead th {\n",
       "        text-align: right;\n",
       "    }\n",
       "</style>\n",
       "<table border=\"1\" class=\"dataframe\">\n",
       "  <thead>\n",
       "    <tr style=\"text-align: right;\">\n",
       "      <th></th>\n",
       "      <th>attribute</th>\n",
       "      <th>information_level</th>\n",
       "      <th>missing_or_unknown</th>\n",
       "    </tr>\n",
       "    <tr>\n",
       "      <th>type</th>\n",
       "      <th></th>\n",
       "      <th></th>\n",
       "      <th></th>\n",
       "    </tr>\n",
       "  </thead>\n",
       "  <tbody>\n",
       "    <tr>\n",
       "      <th>categorical</th>\n",
       "      <td>21</td>\n",
       "      <td>21</td>\n",
       "      <td>21</td>\n",
       "    </tr>\n",
       "    <tr>\n",
       "      <th>interval</th>\n",
       "      <td>1</td>\n",
       "      <td>1</td>\n",
       "      <td>1</td>\n",
       "    </tr>\n",
       "    <tr>\n",
       "      <th>mixed</th>\n",
       "      <td>7</td>\n",
       "      <td>7</td>\n",
       "      <td>7</td>\n",
       "    </tr>\n",
       "    <tr>\n",
       "      <th>numeric</th>\n",
       "      <td>7</td>\n",
       "      <td>7</td>\n",
       "      <td>7</td>\n",
       "    </tr>\n",
       "    <tr>\n",
       "      <th>ordinal</th>\n",
       "      <td>49</td>\n",
       "      <td>49</td>\n",
       "      <td>49</td>\n",
       "    </tr>\n",
       "  </tbody>\n",
       "</table>\n",
       "</div>"
      ],
      "text/plain": [
       "             attribute  information_level  missing_or_unknown\n",
       "type                                                         \n",
       "categorical         21                 21                  21\n",
       "interval             1                  1                   1\n",
       "mixed                7                  7                   7\n",
       "numeric              7                  7                   7\n",
       "ordinal             49                 49                  49"
      ]
     },
     "execution_count": 135,
     "metadata": {},
     "output_type": "execute_result"
    }
   ],
   "source": [
    "# How many features are there of each data type?\n",
    "feat_info.groupby('type').count()"
   ]
  },
  {
   "cell_type": "markdown",
   "metadata": {},
   "source": [
    "#### Step 1.2.1: Re-Encode Categorical Features\n",
    "\n",
    "For categorical data, you would ordinarily need to encode the levels as dummy variables. Depending on the number of categories, perform one of the following:\n",
    "- For binary (two-level) categoricals that take numeric values, you can keep them without needing to do anything.\n",
    "- There is one binary variable that takes on non-numeric values. For this one, you need to re-encode the values as numbers or create a dummy variable.\n",
    "- For multi-level categoricals (three or more values), you can choose to encode the values using multiple dummy variables (e.g. via [OneHotEncoder](http://scikit-learn.org/stable/modules/generated/sklearn.preprocessing.OneHotEncoder.html)), or (to keep things straightforward) just drop them from the analysis. As always, document your choices in the Discussion section."
   ]
  },
  {
   "cell_type": "code",
   "execution_count": 136,
   "metadata": {},
   "outputs": [
    {
     "data": {
      "text/html": [
       "<div>\n",
       "<style scoped>\n",
       "    .dataframe tbody tr th:only-of-type {\n",
       "        vertical-align: middle;\n",
       "    }\n",
       "\n",
       "    .dataframe tbody tr th {\n",
       "        vertical-align: top;\n",
       "    }\n",
       "\n",
       "    .dataframe thead th {\n",
       "        text-align: right;\n",
       "    }\n",
       "</style>\n",
       "<table border=\"1\" class=\"dataframe\">\n",
       "  <thead>\n",
       "    <tr style=\"text-align: right;\">\n",
       "      <th></th>\n",
       "      <th>AGER_TYP</th>\n",
       "      <th>ANREDE_KZ</th>\n",
       "      <th>CJT_GESAMTTYP</th>\n",
       "      <th>FINANZTYP</th>\n",
       "      <th>GFK_URLAUBERTYP</th>\n",
       "      <th>GREEN_AVANTGARDE</th>\n",
       "      <th>LP_FAMILIE_FEIN</th>\n",
       "      <th>LP_FAMILIE_GROB</th>\n",
       "      <th>LP_STATUS_FEIN</th>\n",
       "      <th>LP_STATUS_GROB</th>\n",
       "      <th>...</th>\n",
       "      <th>SHOPPER_TYP</th>\n",
       "      <th>SOHO_KZ</th>\n",
       "      <th>TITEL_KZ</th>\n",
       "      <th>VERS_TYP</th>\n",
       "      <th>ZABEOTYP</th>\n",
       "      <th>KK_KUNDENTYP</th>\n",
       "      <th>GEBAEUDETYP</th>\n",
       "      <th>OST_WEST_KZ</th>\n",
       "      <th>CAMEO_DEUG_2015</th>\n",
       "      <th>CAMEO_DEU_2015</th>\n",
       "    </tr>\n",
       "  </thead>\n",
       "  <tbody>\n",
       "    <tr>\n",
       "      <th>0</th>\n",
       "      <td>NaN</td>\n",
       "      <td>1</td>\n",
       "      <td>2.0</td>\n",
       "      <td>4</td>\n",
       "      <td>10.0</td>\n",
       "      <td>0</td>\n",
       "      <td>2.0</td>\n",
       "      <td>2.0</td>\n",
       "      <td>1.0</td>\n",
       "      <td>1.0</td>\n",
       "      <td>...</td>\n",
       "      <td>NaN</td>\n",
       "      <td>NaN</td>\n",
       "      <td>NaN</td>\n",
       "      <td>NaN</td>\n",
       "      <td>3</td>\n",
       "      <td>NaN</td>\n",
       "      <td>NaN</td>\n",
       "      <td>NaN</td>\n",
       "      <td>NaN</td>\n",
       "      <td>NaN</td>\n",
       "    </tr>\n",
       "    <tr>\n",
       "      <th>1</th>\n",
       "      <td>NaN</td>\n",
       "      <td>2</td>\n",
       "      <td>5.0</td>\n",
       "      <td>1</td>\n",
       "      <td>10.0</td>\n",
       "      <td>0</td>\n",
       "      <td>5.0</td>\n",
       "      <td>3.0</td>\n",
       "      <td>2.0</td>\n",
       "      <td>1.0</td>\n",
       "      <td>...</td>\n",
       "      <td>3.0</td>\n",
       "      <td>1.0</td>\n",
       "      <td>NaN</td>\n",
       "      <td>2.0</td>\n",
       "      <td>5</td>\n",
       "      <td>NaN</td>\n",
       "      <td>8.0</td>\n",
       "      <td>W</td>\n",
       "      <td>8</td>\n",
       "      <td>8A</td>\n",
       "    </tr>\n",
       "    <tr>\n",
       "      <th>2</th>\n",
       "      <td>NaN</td>\n",
       "      <td>2</td>\n",
       "      <td>3.0</td>\n",
       "      <td>1</td>\n",
       "      <td>10.0</td>\n",
       "      <td>1</td>\n",
       "      <td>1.0</td>\n",
       "      <td>1.0</td>\n",
       "      <td>3.0</td>\n",
       "      <td>2.0</td>\n",
       "      <td>...</td>\n",
       "      <td>2.0</td>\n",
       "      <td>0.0</td>\n",
       "      <td>NaN</td>\n",
       "      <td>1.0</td>\n",
       "      <td>5</td>\n",
       "      <td>NaN</td>\n",
       "      <td>1.0</td>\n",
       "      <td>W</td>\n",
       "      <td>4</td>\n",
       "      <td>4C</td>\n",
       "    </tr>\n",
       "    <tr>\n",
       "      <th>3</th>\n",
       "      <td>2.0</td>\n",
       "      <td>2</td>\n",
       "      <td>2.0</td>\n",
       "      <td>6</td>\n",
       "      <td>1.0</td>\n",
       "      <td>0</td>\n",
       "      <td>NaN</td>\n",
       "      <td>NaN</td>\n",
       "      <td>9.0</td>\n",
       "      <td>4.0</td>\n",
       "      <td>...</td>\n",
       "      <td>1.0</td>\n",
       "      <td>0.0</td>\n",
       "      <td>NaN</td>\n",
       "      <td>1.0</td>\n",
       "      <td>3</td>\n",
       "      <td>NaN</td>\n",
       "      <td>1.0</td>\n",
       "      <td>W</td>\n",
       "      <td>2</td>\n",
       "      <td>2A</td>\n",
       "    </tr>\n",
       "    <tr>\n",
       "      <th>4</th>\n",
       "      <td>NaN</td>\n",
       "      <td>1</td>\n",
       "      <td>5.0</td>\n",
       "      <td>5</td>\n",
       "      <td>5.0</td>\n",
       "      <td>0</td>\n",
       "      <td>10.0</td>\n",
       "      <td>5.0</td>\n",
       "      <td>3.0</td>\n",
       "      <td>2.0</td>\n",
       "      <td>...</td>\n",
       "      <td>2.0</td>\n",
       "      <td>0.0</td>\n",
       "      <td>NaN</td>\n",
       "      <td>2.0</td>\n",
       "      <td>4</td>\n",
       "      <td>1.0</td>\n",
       "      <td>1.0</td>\n",
       "      <td>W</td>\n",
       "      <td>6</td>\n",
       "      <td>6B</td>\n",
       "    </tr>\n",
       "    <tr>\n",
       "      <th>5</th>\n",
       "      <td>3.0</td>\n",
       "      <td>2</td>\n",
       "      <td>2.0</td>\n",
       "      <td>2</td>\n",
       "      <td>1.0</td>\n",
       "      <td>0</td>\n",
       "      <td>1.0</td>\n",
       "      <td>1.0</td>\n",
       "      <td>4.0</td>\n",
       "      <td>2.0</td>\n",
       "      <td>...</td>\n",
       "      <td>0.0</td>\n",
       "      <td>0.0</td>\n",
       "      <td>NaN</td>\n",
       "      <td>2.0</td>\n",
       "      <td>4</td>\n",
       "      <td>3.0</td>\n",
       "      <td>1.0</td>\n",
       "      <td>W</td>\n",
       "      <td>8</td>\n",
       "      <td>8C</td>\n",
       "    </tr>\n",
       "    <tr>\n",
       "      <th>6</th>\n",
       "      <td>NaN</td>\n",
       "      <td>2</td>\n",
       "      <td>5.0</td>\n",
       "      <td>4</td>\n",
       "      <td>12.0</td>\n",
       "      <td>0</td>\n",
       "      <td>1.0</td>\n",
       "      <td>1.0</td>\n",
       "      <td>2.0</td>\n",
       "      <td>1.0</td>\n",
       "      <td>...</td>\n",
       "      <td>1.0</td>\n",
       "      <td>0.0</td>\n",
       "      <td>NaN</td>\n",
       "      <td>1.0</td>\n",
       "      <td>4</td>\n",
       "      <td>NaN</td>\n",
       "      <td>1.0</td>\n",
       "      <td>W</td>\n",
       "      <td>4</td>\n",
       "      <td>4A</td>\n",
       "    </tr>\n",
       "    <tr>\n",
       "      <th>7</th>\n",
       "      <td>NaN</td>\n",
       "      <td>1</td>\n",
       "      <td>3.0</td>\n",
       "      <td>5</td>\n",
       "      <td>9.0</td>\n",
       "      <td>0</td>\n",
       "      <td>1.0</td>\n",
       "      <td>1.0</td>\n",
       "      <td>1.0</td>\n",
       "      <td>1.0</td>\n",
       "      <td>...</td>\n",
       "      <td>0.0</td>\n",
       "      <td>0.0</td>\n",
       "      <td>NaN</td>\n",
       "      <td>1.0</td>\n",
       "      <td>1</td>\n",
       "      <td>NaN</td>\n",
       "      <td>8.0</td>\n",
       "      <td>W</td>\n",
       "      <td>2</td>\n",
       "      <td>2D</td>\n",
       "    </tr>\n",
       "    <tr>\n",
       "      <th>8</th>\n",
       "      <td>NaN</td>\n",
       "      <td>1</td>\n",
       "      <td>3.0</td>\n",
       "      <td>6</td>\n",
       "      <td>3.0</td>\n",
       "      <td>1</td>\n",
       "      <td>1.0</td>\n",
       "      <td>1.0</td>\n",
       "      <td>10.0</td>\n",
       "      <td>5.0</td>\n",
       "      <td>...</td>\n",
       "      <td>3.0</td>\n",
       "      <td>0.0</td>\n",
       "      <td>NaN</td>\n",
       "      <td>2.0</td>\n",
       "      <td>6</td>\n",
       "      <td>NaN</td>\n",
       "      <td>3.0</td>\n",
       "      <td>W</td>\n",
       "      <td>1</td>\n",
       "      <td>1A</td>\n",
       "    </tr>\n",
       "    <tr>\n",
       "      <th>9</th>\n",
       "      <td>NaN</td>\n",
       "      <td>2</td>\n",
       "      <td>4.0</td>\n",
       "      <td>1</td>\n",
       "      <td>12.0</td>\n",
       "      <td>1</td>\n",
       "      <td>1.0</td>\n",
       "      <td>1.0</td>\n",
       "      <td>3.0</td>\n",
       "      <td>2.0</td>\n",
       "      <td>...</td>\n",
       "      <td>3.0</td>\n",
       "      <td>0.0</td>\n",
       "      <td>NaN</td>\n",
       "      <td>2.0</td>\n",
       "      <td>4</td>\n",
       "      <td>6.0</td>\n",
       "      <td>3.0</td>\n",
       "      <td>W</td>\n",
       "      <td>1</td>\n",
       "      <td>1E</td>\n",
       "    </tr>\n",
       "  </tbody>\n",
       "</table>\n",
       "<p>10 rows × 21 columns</p>\n",
       "</div>"
      ],
      "text/plain": [
       "   AGER_TYP  ANREDE_KZ  CJT_GESAMTTYP  FINANZTYP  GFK_URLAUBERTYP  \\\n",
       "0       NaN          1            2.0          4             10.0   \n",
       "1       NaN          2            5.0          1             10.0   \n",
       "2       NaN          2            3.0          1             10.0   \n",
       "3       2.0          2            2.0          6              1.0   \n",
       "4       NaN          1            5.0          5              5.0   \n",
       "5       3.0          2            2.0          2              1.0   \n",
       "6       NaN          2            5.0          4             12.0   \n",
       "7       NaN          1            3.0          5              9.0   \n",
       "8       NaN          1            3.0          6              3.0   \n",
       "9       NaN          2            4.0          1             12.0   \n",
       "\n",
       "   GREEN_AVANTGARDE  LP_FAMILIE_FEIN  LP_FAMILIE_GROB  LP_STATUS_FEIN  \\\n",
       "0                 0              2.0              2.0             1.0   \n",
       "1                 0              5.0              3.0             2.0   \n",
       "2                 1              1.0              1.0             3.0   \n",
       "3                 0              NaN              NaN             9.0   \n",
       "4                 0             10.0              5.0             3.0   \n",
       "5                 0              1.0              1.0             4.0   \n",
       "6                 0              1.0              1.0             2.0   \n",
       "7                 0              1.0              1.0             1.0   \n",
       "8                 1              1.0              1.0            10.0   \n",
       "9                 1              1.0              1.0             3.0   \n",
       "\n",
       "   LP_STATUS_GROB      ...        SHOPPER_TYP  SOHO_KZ  TITEL_KZ  VERS_TYP  \\\n",
       "0             1.0      ...                NaN      NaN       NaN       NaN   \n",
       "1             1.0      ...                3.0      1.0       NaN       2.0   \n",
       "2             2.0      ...                2.0      0.0       NaN       1.0   \n",
       "3             4.0      ...                1.0      0.0       NaN       1.0   \n",
       "4             2.0      ...                2.0      0.0       NaN       2.0   \n",
       "5             2.0      ...                0.0      0.0       NaN       2.0   \n",
       "6             1.0      ...                1.0      0.0       NaN       1.0   \n",
       "7             1.0      ...                0.0      0.0       NaN       1.0   \n",
       "8             5.0      ...                3.0      0.0       NaN       2.0   \n",
       "9             2.0      ...                3.0      0.0       NaN       2.0   \n",
       "\n",
       "   ZABEOTYP  KK_KUNDENTYP  GEBAEUDETYP  OST_WEST_KZ CAMEO_DEUG_2015  \\\n",
       "0         3           NaN          NaN          NaN             NaN   \n",
       "1         5           NaN          8.0            W               8   \n",
       "2         5           NaN          1.0            W               4   \n",
       "3         3           NaN          1.0            W               2   \n",
       "4         4           1.0          1.0            W               6   \n",
       "5         4           3.0          1.0            W               8   \n",
       "6         4           NaN          1.0            W               4   \n",
       "7         1           NaN          8.0            W               2   \n",
       "8         6           NaN          3.0            W               1   \n",
       "9         4           6.0          3.0            W               1   \n",
       "\n",
       "  CAMEO_DEU_2015  \n",
       "0            NaN  \n",
       "1             8A  \n",
       "2             4C  \n",
       "3             2A  \n",
       "4             6B  \n",
       "5             8C  \n",
       "6             4A  \n",
       "7             2D  \n",
       "8             1A  \n",
       "9             1E  \n",
       "\n",
       "[10 rows x 21 columns]"
      ]
     },
     "execution_count": 136,
     "metadata": {},
     "output_type": "execute_result"
    }
   ],
   "source": [
    "# Assess categorical variables: which are binary, which are multi-level, and\n",
    "# which one needs to be re-encoded?\n",
    "cat_columns = feat_info.loc[feat_info['type']=='categorical']['attribute'].values\n",
    "\n",
    "cat_encode = ['OST_WEST_KZ','CAMEO_DEU_2015']\n",
    "azdias_nan[cat_columns].head(10)\n",
    "#azdias_nan.groupby('TITEL_KZ').count()"
   ]
  },
  {
   "cell_type": "code",
   "execution_count": 137,
   "metadata": {},
   "outputs": [
    {
     "data": {
      "text/plain": [
       "(891221, 56)"
      ]
     },
     "execution_count": 137,
     "metadata": {},
     "output_type": "execute_result"
    }
   ],
   "source": [
    "# Re-encode categorical variable(s) to be kept in the analysis.\n",
    "azdias_cat = azdias_no_nan.copy()\n",
    "azdias_cat = azdias_cat.drop(columns=['CAMEO_DEU_2015'])\n",
    "azdias_cat['OST_WEST_KZ'] = pd.get_dummies(azdias_cat['OST_WEST_KZ'])\n",
    "azdias_cat.shape"
   ]
  },
  {
   "cell_type": "markdown",
   "metadata": {},
   "source": [
    "#### Discussion 1.2.1: Re-Encode Categorical Features\n",
    "\n",
    "There are two categorical columns that don't have numeric values: 'OST_WEST_KZ' and 'CAMEO_DEU_2015'.\n",
    "Column 'OST_WEST_KZ' has binary values, so I converted them to numerical representations.\n",
    "Column 'CAMEO_DEU_2015' has multi-level categories, and looks similar to Column ''"
   ]
  },
  {
   "cell_type": "markdown",
   "metadata": {},
   "source": [
    "#### Step 1.2.2: Engineer Mixed-Type Features\n",
    "\n",
    "There are a handful of features that are marked as \"mixed\" in the feature summary that require special treatment in order to be included in the analysis. There are two in particular that deserve attention; the handling of the rest are up to your own choices:\n",
    "- \"PRAEGENDE_JUGENDJAHRE\" combines information on three dimensions: generation by decade, movement (mainstream vs. avantgarde), and nation (east vs. west). While there aren't enough levels to disentangle east from west, you should create two new variables to capture the other two dimensions: an interval-type variable for decade, and a binary variable for movement.\n",
    "- \"CAMEO_INTL_2015\" combines information on two axes: wealth and life stage. Break up the two-digit codes by their 'tens'-place and 'ones'-place digits into two new ordinal variables (which, for the purposes of this project, is equivalent to just treating them as their raw numeric values).\n",
    "- If you decide to keep or engineer new features around the other mixed-type features, make sure you note your steps in the Discussion section.\n",
    "\n",
    "Be sure to check `Data_Dictionary.md` for the details needed to finish these tasks."
   ]
  },
  {
   "cell_type": "code",
   "execution_count": 138,
   "metadata": {},
   "outputs": [
    {
     "data": {
      "text/plain": [
       "(891221, 56)"
      ]
     },
     "execution_count": 138,
     "metadata": {},
     "output_type": "execute_result"
    }
   ],
   "source": [
    "# Investigate \"PRAEGENDE_JUGENDJAHRE\" and engineer two new variables.\n",
    "#azdias['PRAEGENDE_JUGENDJAHRE'].unique()\n",
    "azdias_mixed = azdias_cat.copy()\n",
    "try:\n",
    "    azdias_mixed['PRAEGENDE']=azdias_cat['PRAEGENDE_JUGENDJAHRE']\n",
    "    azdias_mixed['JUGENDJAHRE']=azdias_cat['PRAEGENDE_JUGENDJAHRE']\n",
    "    azdias_mixed.drop(columns=['PRAEGENDE_JUGENDJAHRE'],inplace=True);\n",
    "except:\n",
    "    None\n",
    "azdias_mixed.shape"
   ]
  },
  {
   "cell_type": "code",
   "execution_count": 139,
   "metadata": {},
   "outputs": [
    {
     "data": {
      "text/plain": [
       "(891221, 57)"
      ]
     },
     "execution_count": 139,
     "metadata": {},
     "output_type": "execute_result"
    }
   ],
   "source": [
    "# Investigate \"CAMEO_INTL_2015\" and engineer two new variables.\n",
    "azdias_mixed['wealth']=azdias_mixed['CAMEO_INTL_2015'].apply(lambda x:float(x)//10)\n",
    "azdias_mixed['life']=azdias_mixed['CAMEO_INTL_2015'].apply(lambda x:float(x)%10)\n",
    "azdias_mixed.drop(columns=['CAMEO_INTL_2015'],inplace=True);\n",
    "azdias_mixed.shape"
   ]
  },
  {
   "cell_type": "markdown",
   "metadata": {},
   "source": [
    "#### Discussion 1.2.2: Engineer Mixed-Type Features\n",
    "\n",
    "The column 'PRAEGENDE_JUGENDJAHRE' is now separated into two columns 'PRAEGENDE' and 'JUGENDJAHRE'.\n",
    "The column 'CAMEO_INTL_2015' is now separated into two columns, too. The column 'wealth' has the 1st digit of 'CAMEO_INTL_2015' and the column 'life' has the 2nd digit."
   ]
  },
  {
   "cell_type": "markdown",
   "metadata": {},
   "source": [
    "#### Step 1.2.3: Complete Feature Selection\n",
    "\n",
    "In order to finish this step up, you need to make sure that your data frame now only has the columns that you want to keep. To summarize, the dataframe should consist of the following:\n",
    "- All numeric, interval, and ordinal type columns from the original dataset.\n",
    "- Binary categorical features (all numerically-encoded).\n",
    "- Engineered features from other multi-level categorical features and mixed features.\n",
    "\n",
    "Make sure that for any new columns that you have engineered, that you've excluded the original columns from the final dataset. Otherwise, their values will interfere with the analysis later on the project. For example, you should not keep \"PRAEGENDE_JUGENDJAHRE\", since its values won't be useful for the algorithm: only the values derived from it in the engineered features you created should be retained. As a reminder, your data should only be from **the subset with few or no missing values**."
   ]
  },
  {
   "cell_type": "code",
   "execution_count": 140,
   "metadata": {},
   "outputs": [
    {
     "name": "stdout",
     "output_type": "stream",
     "text": [
      "(733064, 57)\n"
     ]
    }
   ],
   "source": [
    "# If there are other re-engineering tasks you need to perform, make sure you\n",
    "# take care of them here. (Dealing with missing data will come in step 2.1.)\n",
    "\n",
    "# Select rows that have no NaN values\n",
    "azdias_mixed = azdias_mixed.loc[azdias_mixed.isna().sum(axis=1).values==0]\n",
    "print(azdias_mixed.shape)"
   ]
  },
  {
   "cell_type": "code",
   "execution_count": 141,
   "metadata": {},
   "outputs": [],
   "source": [
    "# Do whatever you need to in order to ensure that the dataframe only contains\n",
    "# the columns that should be passed to the algorithm functions.\n",
    "\n"
   ]
  },
  {
   "cell_type": "markdown",
   "metadata": {},
   "source": [
    "### Step 1.3: Create a Cleaning Function\n",
    "\n",
    "Even though you've finished cleaning up the general population demographics data, it's important to look ahead to the future and realize that you'll need to perform the same cleaning steps on the customer demographics data. In this substep, complete the function below to execute the main feature selection, encoding, and re-engineering steps you performed above. Then, when it comes to looking at the customer data in Step 3, you can just run this function on that DataFrame to get the trimmed dataset in a single step."
   ]
  },
  {
   "cell_type": "code",
   "execution_count": 162,
   "metadata": {},
   "outputs": [
    {
     "name": "stdout",
     "output_type": "stream",
     "text": [
      "8373929\n",
      "(733064, 57)\n"
     ]
    }
   ],
   "source": [
    "def clean_data(df):\n",
    "    \"\"\"\n",
    "    Perform feature trimming, re-encoding, and engineering for demographics\n",
    "    data\n",
    "    \n",
    "    INPUT: Demographics DataFrame\n",
    "    OUTPUT: Trimmed and cleaned demographics DataFrame\n",
    "    \"\"\"\n",
    "    # Put in code here to execute all main cleaning steps:\n",
    "    # convert missing value codes into NaNs, ...\n",
    "    df_1 = df.copy()\n",
    "    for column in range(len(df.columns)):\n",
    "        unknown_list = feat_info_list[column]\n",
    "        for i, item in enumerate(unknown_list):\n",
    "            try:\n",
    "                unknown_list[i] = float(item)\n",
    "            except:\n",
    "                None \n",
    "        df_1.iloc[:,[column]] = df_1.iloc[:,[column]].replace(unknown_list,np.NaN)\n",
    "    df_1.fillna(np.NaN,inplace=True)\n",
    "    #print(np.sum(np.sum(df_1.isna())))\n",
    "    # remove selected columns and rows, ...\n",
    "    df_1.drop(columns=column_nan,inplace=True)\n",
    "    # select, re-encode, and engineer column values.\n",
    "    try:\n",
    "        df_1.drop(columns=['CAMEO_DEU_2015'],inplace=True)\n",
    "        df_1['OST_WEST_KZ'] = pd.get_dummies(df_1['OST_WEST_KZ'])\n",
    "        df_1['PRAEGENDE']=df_1['PRAEGENDE_JUGENDJAHRE']\n",
    "        df_1['JUGENDJAHRE']=df_1['PRAEGENDE_JUGENDJAHRE']\n",
    "        df_1.drop(columns=['PRAEGENDE_JUGENDJAHRE'],inplace=True);\n",
    "    except:\n",
    "        None\n",
    "    try:\n",
    "        df_1['wealth']=df_1['CAMEO_INTL_2015'].apply(lambda x:float(x)//10)\n",
    "        df_1['life']=df_1['CAMEO_INTL_2015'].apply(lambda x:float(x)%10)\n",
    "        df_1.drop(columns=['CAMEO_INTL_2015'],inplace=True)\n",
    "    except:\n",
    "        None\n",
    "\n",
    "    # Return the cleaned dataframe.\n",
    "    df_1 = df_1.loc[df_1.isna().sum(axis=1).values==0]  \n",
    "    return df_1\n",
    "df_1 = clean_data(azdias)\n",
    "print(df_1.shape)\n"
   ]
  },
  {
   "cell_type": "markdown",
   "metadata": {},
   "source": [
    "## Step 2: Feature Transformation\n",
    "\n",
    "### Step 2.1: Apply Feature Scaling\n",
    "\n",
    "Before we apply dimensionality reduction techniques to the data, we need to perform feature scaling so that the principal component vectors are not influenced by the natural differences in scale for features. Starting from this part of the project, you'll want to keep an eye on the [API reference page for sklearn](http://scikit-learn.org/stable/modules/classes.html) to help you navigate to all of the classes and functions that you'll need. In this substep, you'll need to check the following:\n",
    "\n",
    "- sklearn requires that data not have missing values in order for its estimators to work properly. So, before applying the scaler to your data, make sure that you've cleaned the DataFrame of the remaining missing values. This can be as simple as just removing all data points with missing data, or applying an [Imputer](http://scikit-learn.org/stable/modules/generated/sklearn.preprocessing.Imputer.html) to replace all missing values. You might also try a more complicated procedure where you temporarily remove missing values in order to compute the scaling parameters before re-introducing those missing values and applying imputation. Think about how much missing data you have and what possible effects each approach might have on your analysis, and justify your decision in the discussion section below.\n",
    "- For the actual scaling function, a [StandardScaler](http://scikit-learn.org/stable/modules/generated/sklearn.preprocessing.StandardScaler.html) instance is suggested, scaling each feature to mean 0 and standard deviation 1.\n",
    "- For these classes, you can make use of the `.fit_transform()` method to both fit a procedure to the data as well as apply the transformation to the data at the same time. Don't forget to keep the fit sklearn objects handy, since you'll be applying them to the customer demographics data towards the end of the project."
   ]
  },
  {
   "cell_type": "code",
   "execution_count": 163,
   "metadata": {},
   "outputs": [],
   "source": [
    "# If you've not yet cleaned the dataset of all NaN values, then investigate and\n",
    "# do that now."
   ]
  },
  {
   "cell_type": "code",
   "execution_count": 164,
   "metadata": {},
   "outputs": [],
   "source": [
    "# Apply feature scaling to the general population demographics data.\n",
    "from sklearn.preprocessing import StandardScaler\n",
    "scaler = StandardScaler()"
   ]
  },
  {
   "cell_type": "code",
   "execution_count": 165,
   "metadata": {},
   "outputs": [
    {
     "data": {
      "text/html": [
       "<div>\n",
       "<style scoped>\n",
       "    .dataframe tbody tr th:only-of-type {\n",
       "        vertical-align: middle;\n",
       "    }\n",
       "\n",
       "    .dataframe tbody tr th {\n",
       "        vertical-align: top;\n",
       "    }\n",
       "\n",
       "    .dataframe thead th {\n",
       "        text-align: right;\n",
       "    }\n",
       "</style>\n",
       "<table border=\"1\" class=\"dataframe\">\n",
       "  <thead>\n",
       "    <tr style=\"text-align: right;\">\n",
       "      <th></th>\n",
       "      <th>ALTERSKATEGORIE_GROB</th>\n",
       "      <th>ANREDE_KZ</th>\n",
       "      <th>CJT_GESAMTTYP</th>\n",
       "      <th>FINANZ_MINIMALIST</th>\n",
       "      <th>FINANZ_SPARER</th>\n",
       "      <th>FINANZ_VORSORGER</th>\n",
       "      <th>FINANZ_ANLEGER</th>\n",
       "      <th>FINANZ_UNAUFFAELLIGER</th>\n",
       "      <th>FINANZ_HAUSBAUER</th>\n",
       "      <th>FINANZTYP</th>\n",
       "      <th>...</th>\n",
       "      <th>BALLRAUM</th>\n",
       "      <th>EWDICHTE</th>\n",
       "      <th>INNENSTADT</th>\n",
       "      <th>GEBAEUDETYP_RASTER</th>\n",
       "      <th>ONLINE_AFFINITAET</th>\n",
       "      <th>ARBEIT</th>\n",
       "      <th>ORTSGR_KLS9</th>\n",
       "      <th>RELAT_AB</th>\n",
       "      <th>wealth</th>\n",
       "      <th>life</th>\n",
       "    </tr>\n",
       "  </thead>\n",
       "  <tbody>\n",
       "    <tr>\n",
       "      <th>1</th>\n",
       "      <td>-1.738181</td>\n",
       "      <td>0.967431</td>\n",
       "      <td>0.991464</td>\n",
       "      <td>-1.539781</td>\n",
       "      <td>1.589702</td>\n",
       "      <td>-1.043333</td>\n",
       "      <td>1.51950</td>\n",
       "      <td>0.996898</td>\n",
       "      <td>1.366393</td>\n",
       "      <td>-1.383952</td>\n",
       "      <td>...</td>\n",
       "      <td>0.847435</td>\n",
       "      <td>-0.543138</td>\n",
       "      <td>1.698924</td>\n",
       "      <td>-0.807790</td>\n",
       "      <td>0.134386</td>\n",
       "      <td>-0.164702</td>\n",
       "      <td>-0.123317</td>\n",
       "      <td>0.687341</td>\n",
       "      <td>1.196713</td>\n",
       "      <td>-1.270004</td>\n",
       "    </tr>\n",
       "    <tr>\n",
       "      <th>2</th>\n",
       "      <td>0.209698</td>\n",
       "      <td>0.967431</td>\n",
       "      <td>-0.317379</td>\n",
       "      <td>-1.539781</td>\n",
       "      <td>0.906227</td>\n",
       "      <td>-1.765707</td>\n",
       "      <td>-0.54789</td>\n",
       "      <td>0.275286</td>\n",
       "      <td>1.366393</td>\n",
       "      <td>-1.383952</td>\n",
       "      <td>...</td>\n",
       "      <td>-0.985176</td>\n",
       "      <td>0.038291</td>\n",
       "      <td>-0.274033</td>\n",
       "      <td>0.279609</td>\n",
       "      <td>-0.507826</td>\n",
       "      <td>-0.164702</td>\n",
       "      <td>-0.123317</td>\n",
       "      <td>-0.783115</td>\n",
       "      <td>-0.850396</td>\n",
       "      <td>0.753991</td>\n",
       "    </tr>\n",
       "    <tr>\n",
       "      <th>4</th>\n",
       "      <td>0.209698</td>\n",
       "      <td>-1.033666</td>\n",
       "      <td>0.991464</td>\n",
       "      <td>0.666407</td>\n",
       "      <td>0.222752</td>\n",
       "      <td>0.401413</td>\n",
       "      <td>-1.23702</td>\n",
       "      <td>0.275286</td>\n",
       "      <td>-0.772890</td>\n",
       "      <td>0.548681</td>\n",
       "      <td>...</td>\n",
       "      <td>-0.985176</td>\n",
       "      <td>0.619720</td>\n",
       "      <td>-1.753752</td>\n",
       "      <td>1.367009</td>\n",
       "      <td>1.418809</td>\n",
       "      <td>0.834250</td>\n",
       "      <td>0.310653</td>\n",
       "      <td>1.422568</td>\n",
       "      <td>0.514344</td>\n",
       "      <td>0.079326</td>\n",
       "    </tr>\n",
       "    <tr>\n",
       "      <th>5</th>\n",
       "      <td>-1.738181</td>\n",
       "      <td>0.967431</td>\n",
       "      <td>-0.971801</td>\n",
       "      <td>-0.068989</td>\n",
       "      <td>-1.144199</td>\n",
       "      <td>1.123787</td>\n",
       "      <td>-0.54789</td>\n",
       "      <td>-0.446326</td>\n",
       "      <td>1.366393</td>\n",
       "      <td>-0.900793</td>\n",
       "      <td>...</td>\n",
       "      <td>0.847435</td>\n",
       "      <td>-1.124568</td>\n",
       "      <td>1.205685</td>\n",
       "      <td>0.279609</td>\n",
       "      <td>-1.150037</td>\n",
       "      <td>-1.163655</td>\n",
       "      <td>-0.991259</td>\n",
       "      <td>-0.047887</td>\n",
       "      <td>1.196713</td>\n",
       "      <td>0.753991</td>\n",
       "    </tr>\n",
       "    <tr>\n",
       "      <th>6</th>\n",
       "      <td>-0.764242</td>\n",
       "      <td>0.967431</td>\n",
       "      <td>0.991464</td>\n",
       "      <td>-1.539781</td>\n",
       "      <td>1.589702</td>\n",
       "      <td>-1.765707</td>\n",
       "      <td>1.51950</td>\n",
       "      <td>0.996898</td>\n",
       "      <td>-0.059795</td>\n",
       "      <td>0.065523</td>\n",
       "      <td>...</td>\n",
       "      <td>0.847435</td>\n",
       "      <td>0.038291</td>\n",
       "      <td>-0.767273</td>\n",
       "      <td>1.367009</td>\n",
       "      <td>-0.507826</td>\n",
       "      <td>0.834250</td>\n",
       "      <td>0.310653</td>\n",
       "      <td>-0.047887</td>\n",
       "      <td>-0.850396</td>\n",
       "      <td>-0.595339</td>\n",
       "    </tr>\n",
       "  </tbody>\n",
       "</table>\n",
       "<p>5 rows × 57 columns</p>\n",
       "</div>"
      ],
      "text/plain": [
       "   ALTERSKATEGORIE_GROB  ANREDE_KZ  CJT_GESAMTTYP  FINANZ_MINIMALIST  \\\n",
       "1             -1.738181   0.967431       0.991464          -1.539781   \n",
       "2              0.209698   0.967431      -0.317379          -1.539781   \n",
       "4              0.209698  -1.033666       0.991464           0.666407   \n",
       "5             -1.738181   0.967431      -0.971801          -0.068989   \n",
       "6             -0.764242   0.967431       0.991464          -1.539781   \n",
       "\n",
       "   FINANZ_SPARER  FINANZ_VORSORGER  FINANZ_ANLEGER  FINANZ_UNAUFFAELLIGER  \\\n",
       "1       1.589702         -1.043333         1.51950               0.996898   \n",
       "2       0.906227         -1.765707        -0.54789               0.275286   \n",
       "4       0.222752          0.401413        -1.23702               0.275286   \n",
       "5      -1.144199          1.123787        -0.54789              -0.446326   \n",
       "6       1.589702         -1.765707         1.51950               0.996898   \n",
       "\n",
       "   FINANZ_HAUSBAUER  FINANZTYP    ...     BALLRAUM  EWDICHTE  INNENSTADT  \\\n",
       "1          1.366393  -1.383952    ...     0.847435 -0.543138    1.698924   \n",
       "2          1.366393  -1.383952    ...    -0.985176  0.038291   -0.274033   \n",
       "4         -0.772890   0.548681    ...    -0.985176  0.619720   -1.753752   \n",
       "5          1.366393  -0.900793    ...     0.847435 -1.124568    1.205685   \n",
       "6         -0.059795   0.065523    ...     0.847435  0.038291   -0.767273   \n",
       "\n",
       "   GEBAEUDETYP_RASTER  ONLINE_AFFINITAET    ARBEIT  ORTSGR_KLS9  RELAT_AB  \\\n",
       "1           -0.807790           0.134386 -0.164702    -0.123317  0.687341   \n",
       "2            0.279609          -0.507826 -0.164702    -0.123317 -0.783115   \n",
       "4            1.367009           1.418809  0.834250     0.310653  1.422568   \n",
       "5            0.279609          -1.150037 -1.163655    -0.991259 -0.047887   \n",
       "6            1.367009          -0.507826  0.834250     0.310653 -0.047887   \n",
       "\n",
       "     wealth      life  \n",
       "1  1.196713 -1.270004  \n",
       "2 -0.850396  0.753991  \n",
       "4  0.514344  0.079326  \n",
       "5  1.196713  0.753991  \n",
       "6 -0.850396 -0.595339  \n",
       "\n",
       "[5 rows x 57 columns]"
      ]
     },
     "execution_count": 165,
     "metadata": {},
     "output_type": "execute_result"
    }
   ],
   "source": [
    "df_1 = scaler.fit_transform(azdias_mixed)\n",
    "azdias_normalized= pd.DataFrame(data=df_1,index=azdias_mixed.index,columns=azdias_mixed.columns)\n",
    "azdias_normalized.head()"
   ]
  },
  {
   "cell_type": "markdown",
   "metadata": {},
   "source": [
    "### Discussion 2.1: Apply Feature Scaling\n",
    "\n",
    "StandardScaler is used to normalize each column of the remaining Dataframe."
   ]
  },
  {
   "cell_type": "markdown",
   "metadata": {},
   "source": [
    "### Step 2.2: Perform Dimensionality Reduction\n",
    "\n",
    "On your scaled data, you are now ready to apply dimensionality reduction techniques.\n",
    "\n",
    "- Use sklearn's [PCA](http://scikit-learn.org/stable/modules/generated/sklearn.decomposition.PCA.html) class to apply principal component analysis on the data, thus finding the vectors of maximal variance in the data. To start, you should not set any parameters (so all components are computed) or set a number of components that is at least half the number of features (so there's enough features to see the general trend in variability).\n",
    "- Check out the ratio of variance explained by each principal component as well as the cumulative variance explained. Try plotting the cumulative or sequential values using matplotlib's [`plot()`](https://matplotlib.org/api/_as_gen/matplotlib.pyplot.plot.html) function. Based on what you find, select a value for the number of transformed features you'll retain for the clustering part of the project.\n",
    "- Once you've made a choice for the number of components to keep, make sure you re-fit a PCA instance to perform the decided-on transformation."
   ]
  },
  {
   "cell_type": "code",
   "execution_count": 166,
   "metadata": {},
   "outputs": [
    {
     "data": {
      "text/plain": [
       "PCA(copy=True, iterated_power='auto', n_components=None, random_state=None,\n",
       "  svd_solver='auto', tol=0.0, whiten=False)"
      ]
     },
     "execution_count": 166,
     "metadata": {},
     "output_type": "execute_result"
    }
   ],
   "source": [
    "# Apply PCA to the data.\n",
    "from sklearn.decomposition import PCA\n",
    "pca = PCA()\n",
    "pca.fit(azdias_normalized)"
   ]
  },
  {
   "cell_type": "code",
   "execution_count": 167,
   "metadata": {},
   "outputs": [
    {
     "name": "stdout",
     "output_type": "stream",
     "text": [
      "[ 0.17140358  0.31199068  0.41656344  0.48462609  0.53282101  0.56147451\n",
      "  0.58740868  0.61204476  0.63553372  0.65631653  0.67488751  0.69254422\n",
      "  0.71008209  0.72687768  0.74298157  0.75891155  0.77456922  0.78913957\n",
      "  0.8036056   0.8173788   0.8299991   0.84151893  0.85226992  0.86214619\n",
      "  0.87144356  0.88038935  0.88901891  0.89725741  0.90523785  0.9128239\n",
      "  0.91984578  0.92679116  0.93286831  0.93840267  0.9438531   0.94892751\n",
      "  0.95386089  0.95850457  0.963011    0.96725008  0.97137884  0.97535613\n",
      "  0.97896755  0.98218522  0.9852083   0.98784922  0.99039123  0.99250547\n",
      "  0.9945367   0.99630897  0.99777182  0.99877205  0.99931157  0.99969906\n",
      "  0.99982809  0.99995292  1.        ]\n"
     ]
    },
    {
     "data": {
      "image/png": "[encoded data removed]",
      "text/plain": [
       "<matplotlib.figure.Figure at 0x7f3cd0d069b0>"
      ]
     },
     "metadata": {
      "needs_background": "light"
     },
     "output_type": "display_data"
    }
   ],
   "source": [
    "# Investigate the variance accounted for by each principal component.\n",
    "component = pca.explained_variance_ratio_\n",
    "plt.bar(np.arange(len(component)),np.cumsum(component),alpha=0.7)\n",
    "plt.bar(np.arange(len(component)),component,alpha=0.7)\n",
    "plt.xlabel('Component')\n",
    "plt.ylabel('Variance ratio')\n",
    "print(np.cumsum(component))"
   ]
  },
  {
   "cell_type": "code",
   "execution_count": 168,
   "metadata": {},
   "outputs": [],
   "source": [
    "# Re-apply PCA to the data while selecting for number of components to retain.\n",
    "pca_19 = PCA(n_components=19)\n",
    "azdias_19 = pca_19.fit_transform(azdias_normalized)"
   ]
  },
  {
   "cell_type": "markdown",
   "metadata": {},
   "source": [
    "### Discussion 2.2: Perform Dimensionality Reduction\n",
    "\n",
    "I found that the first 19 pca components account for roughly 80% of the varaiance. So I retain 19 components for the data analysis next. "
   ]
  },
  {
   "cell_type": "markdown",
   "metadata": {},
   "source": [
    "### Step 2.3: Interpret Principal Components\n",
    "\n",
    "Now that we have our transformed principal components, it's a nice idea to check out the weight of each variable on the first few components to see if they can be interpreted in some fashion.\n",
    "\n",
    "As a reminder, each principal component is a unit vector that points in the direction of highest variance (after accounting for the variance captured by earlier principal components). The further a weight is from zero, the more the principal component is in the direction of the corresponding feature. If two features have large weights of the same sign (both positive or both negative), then increases in one tend expect to be associated with increases in the other. To contrast, features with different signs can be expected to show a negative correlation: increases in one variable should result in a decrease in the other.\n",
    "\n",
    "- To investigate the features, you should map each weight to their corresponding feature name, then sort the features according to weight. The most interesting features for each principal component, then, will be those at the beginning and end of the sorted list. Use the data dictionary document to help you understand these most prominent features, their relationships, and what a positive or negative value on the principal component might indicate.\n",
    "- You should investigate and interpret feature associations from the first three principal components in this substep. To help facilitate this, you should write a function that you can call at any time to print the sorted list of feature weights, for the *i*-th principal component. This might come in handy in the next step of the project, when you interpret the tendencies of the discovered clusters."
   ]
  },
  {
   "cell_type": "code",
   "execution_count": 169,
   "metadata": {},
   "outputs": [
    {
     "name": "stdout",
     "output_type": "stream",
     "text": [
      "    pca ratio                   name\n",
      "3   -0.256611      FINANZ_MINIMALIST\n",
      "17  -0.234257         LP_STATUS_GROB\n",
      "16  -0.228364         LP_STATUS_FEIN\n",
      "0   -0.202482   ALTERSKATEGORIE_GROB\n",
      "12  -0.182294    LP_LEBENSPHASE_FEIN\n",
      "5   -0.182079       FINANZ_VORSORGER\n",
      "13  -0.165190    LP_LEBENSPHASE_GROB\n",
      "25  -0.137323              SEMIO_ERL\n",
      "24  -0.135857             SEMIO_LUST\n",
      "42  -0.130958            KONSUMNAEHE\n",
      "56  -0.122779                   life\n",
      "49  -0.121998             INNENSTADT\n",
      "15  -0.116073        LP_FAMILIE_GROB\n",
      "11  -0.115217       GREEN_AVANTGARDE\n",
      "14  -0.113900        LP_FAMILIE_FEIN\n",
      "35  -0.113458           ANZ_PERSONEN\n",
      "9   -0.106193              FINANZTYP\n",
      "50  -0.094207     GEBAEUDETYP_RASTER\n",
      "47  -0.093865               BALLRAUM\n",
      "38  -0.093754         WOHNDAUER_2008\n",
      "18  -0.080434         RETOURTYP_BK_S\n",
      "45  -0.058175               WOHNLAGE\n",
      "43  -0.046062       MIN_GEBAEUDEJAHR\n",
      "23  -0.040575             SEMIO_VERT\n",
      "51  -0.014853      ONLINE_AFFINITAET\n",
      "36  -0.010533              ANZ_TITEL\n",
      "28  -0.006975             SEMIO_KRIT\n",
      "33  -0.002396                SOHO_KZ\n",
      "1    0.003189              ANREDE_KZ\n",
      "30   0.019272             SEMIO_KAEM\n",
      "29   0.019327              SEMIO_DOM\n",
      "40   0.021463           ANZ_HH_TITEL\n",
      "44   0.036224            OST_WEST_KZ\n",
      "19   0.055448              SEMIO_SOZ\n",
      "41   0.069951            GEBAEUDETYP\n",
      "2    0.075240          CJT_GESAMTTYP\n",
      "10   0.084577        GFK_URLAUBERTYP\n",
      "54   0.103281               RELAT_AB\n",
      "39   0.110211    ANZ_HAUSHALTE_AKTIV\n",
      "52   0.111603                 ARBEIT\n",
      "20   0.114599              SEMIO_FAM\n",
      "26   0.121032             SEMIO_KULT\n",
      "22   0.123736              SEMIO_MAT\n",
      "6    0.136090         FINANZ_ANLEGER\n",
      "8    0.139785       FINANZ_HAUSBAUER\n",
      "48   0.145018               EWDICHTE\n",
      "7    0.145429  FINANZ_UNAUFFAELLIGER\n",
      "53   0.148508            ORTSGR_KLS9\n",
      "27   0.157303              SEMIO_RAT\n",
      "34   0.161589               ZABEOTYP\n",
      "32   0.169222            SEMIO_TRADV\n",
      "55   0.178874                 wealth\n",
      "21   0.181585              SEMIO_REL\n",
      "46   0.183837        CAMEO_DEUG_2015\n",
      "31   0.186102          SEMIO_PFLICHT\n",
      "37   0.198300     HH_EINKOMMEN_SCORE\n",
      "4    0.217940          FINANZ_SPARER\n"
     ]
    }
   ],
   "source": [
    "# Map weights for the first principal component to corresponding feature names\n",
    "# and then print the linked values, sorted by weight.\n",
    "# HINT: Try defining a function here or in a new cell that you can reuse in the\n",
    "# other cells.\n",
    "def show_component(n):\n",
    "    n_component = pca_19.components_[n]\n",
    "    labels = azdias_normalized.columns\n",
    "    n_component = pd.DataFrame(data=n_component,columns=['pca ratio'])\n",
    "    n_component['name']=labels\n",
    "    n_component.sort_values(by='pca ratio',axis=0,inplace=True)\n",
    "    print(n_component)\n",
    "show_component(0)"
   ]
  },
  {
   "cell_type": "code",
   "execution_count": 170,
   "metadata": {},
   "outputs": [
    {
     "name": "stdout",
     "output_type": "stream",
     "text": [
      "    pca ratio                   name\n",
      "21  -0.228456              SEMIO_REL\n",
      "26  -0.226368             SEMIO_KULT\n",
      "20  -0.192731              SEMIO_FAM\n",
      "51  -0.192472      ONLINE_AFFINITAET\n",
      "7   -0.181565  FINANZ_UNAUFFAELLIGER\n",
      "32  -0.181483            SEMIO_TRADV\n",
      "31  -0.174473          SEMIO_PFLICHT\n",
      "4   -0.164861          FINANZ_SPARER\n",
      "15  -0.156927        LP_FAMILIE_GROB\n",
      "14  -0.154697        LP_FAMILIE_FEIN\n",
      "13  -0.147536    LP_LEBENSPHASE_GROB\n",
      "12  -0.145824    LP_LEBENSPHASE_FEIN\n",
      "6   -0.145237         FINANZ_ANLEGER\n",
      "35  -0.141829           ANZ_PERSONEN\n",
      "22  -0.141189              SEMIO_MAT\n",
      "23  -0.138167             SEMIO_VERT\n",
      "16  -0.135279         LP_STATUS_FEIN\n",
      "19  -0.130506              SEMIO_SOZ\n",
      "17  -0.118948         LP_STATUS_GROB\n",
      "2   -0.104621          CJT_GESAMTTYP\n",
      "42  -0.103994            KONSUMNAEHE\n",
      "27  -0.103661              SEMIO_RAT\n",
      "49  -0.103112             INNENSTADT\n",
      "47  -0.081635               BALLRAUM\n",
      "43  -0.069921       MIN_GEBAEUDEJAHR\n",
      "50  -0.068766     GEBAEUDETYP_RASTER\n",
      "45  -0.067899               WOHNLAGE\n",
      "11  -0.067736       GREEN_AVANTGARDE\n",
      "56  -0.038084                   life\n",
      "3   -0.037863      FINANZ_MINIMALIST\n",
      "10  -0.004121        GFK_URLAUBERTYP\n",
      "33  -0.003617                SOHO_KZ\n",
      "36   0.000944              ANZ_TITEL\n",
      "38   0.018076         WOHNDAUER_2008\n",
      "44   0.035112            OST_WEST_KZ\n",
      "40   0.036263           ANZ_HH_TITEL\n",
      "41   0.041132            GEBAEUDETYP\n",
      "34   0.060503               ZABEOTYP\n",
      "9    0.066424              FINANZTYP\n",
      "54   0.092992               RELAT_AB\n",
      "39   0.093946    ANZ_HAUSHALTE_AKTIV\n",
      "52   0.099962                 ARBEIT\n",
      "29   0.125956              SEMIO_DOM\n",
      "48   0.126643               EWDICHTE\n",
      "53   0.127454            ORTSGR_KLS9\n",
      "46   0.129039        CAMEO_DEUG_2015\n",
      "55   0.132097                 wealth\n",
      "37   0.134459     HH_EINKOMMEN_SCORE\n",
      "18   0.134571         RETOURTYP_BK_S\n",
      "24   0.140277             SEMIO_LUST\n",
      "1    0.146086              ANREDE_KZ\n",
      "28   0.166969             SEMIO_KRIT\n",
      "5    0.167874       FINANZ_VORSORGER\n",
      "30   0.168620             SEMIO_KAEM\n",
      "8    0.174520       FINANZ_HAUSBAUER\n",
      "0    0.199687   ALTERSKATEGORIE_GROB\n",
      "25   0.227221              SEMIO_ERL\n"
     ]
    }
   ],
   "source": [
    "# Map weights for the second principal component to corresponding feature names\n",
    "# and then print the linked values, sorted by weight.\n",
    "show_component(1)\n"
   ]
  },
  {
   "cell_type": "code",
   "execution_count": 171,
   "metadata": {},
   "outputs": [
    {
     "name": "stdout",
     "output_type": "stream",
     "text": [
      "    pca ratio                   name\n",
      "1   -0.350676              ANREDE_KZ\n",
      "30  -0.311253             SEMIO_KAEM\n",
      "29  -0.294922              SEMIO_DOM\n",
      "28  -0.244470             SEMIO_KRIT\n",
      "27  -0.230301              SEMIO_RAT\n",
      "6   -0.204702         FINANZ_ANLEGER\n",
      "25  -0.147072              SEMIO_ERL\n",
      "7   -0.125781  FINANZ_UNAUFFAELLIGER\n",
      "4   -0.116367          FINANZ_SPARER\n",
      "51  -0.115627      ONLINE_AFFINITAET\n",
      "32  -0.109686            SEMIO_TRADV\n",
      "15  -0.098068        LP_FAMILIE_GROB\n",
      "14  -0.095365        LP_FAMILIE_FEIN\n",
      "31  -0.094632          SEMIO_PFLICHT\n",
      "13  -0.081400    LP_LEBENSPHASE_GROB\n",
      "12  -0.078557    LP_LEBENSPHASE_FEIN\n",
      "35  -0.074740           ANZ_PERSONEN\n",
      "49  -0.071154             INNENSTADT\n",
      "42  -0.069295            KONSUMNAEHE\n",
      "47  -0.055927               BALLRAUM\n",
      "2   -0.055486          CJT_GESAMTTYP\n",
      "50  -0.053259     GEBAEUDETYP_RASTER\n",
      "43  -0.041184       MIN_GEBAEUDEJAHR\n",
      "45  -0.035413               WOHNLAGE\n",
      "16  -0.034648         LP_STATUS_FEIN\n",
      "56  -0.033270                   life\n",
      "34  -0.029004               ZABEOTYP\n",
      "17  -0.016977         LP_STATUS_GROB\n",
      "10  -0.015765        GFK_URLAUBERTYP\n",
      "33  -0.000589                SOHO_KZ\n",
      "8    0.005511       FINANZ_HAUSBAUER\n",
      "11   0.005910       GREEN_AVANTGARDE\n",
      "36   0.007508              ANZ_TITEL\n",
      "40   0.023182           ANZ_HH_TITEL\n",
      "38   0.023205         WOHNDAUER_2008\n",
      "41   0.025082            GEBAEUDETYP\n",
      "44   0.028625            OST_WEST_KZ\n",
      "37   0.039423     HH_EINKOMMEN_SCORE\n",
      "22   0.040649              SEMIO_MAT\n",
      "21   0.050745              SEMIO_REL\n",
      "39   0.056215    ANZ_HAUSHALTE_AKTIV\n",
      "54   0.059924               RELAT_AB\n",
      "52   0.068012                 ARBEIT\n",
      "46   0.078055        CAMEO_DEUG_2015\n",
      "55   0.078154                 wealth\n",
      "48   0.079752               EWDICHTE\n",
      "53   0.081840            ORTSGR_KLS9\n",
      "24   0.084910             SEMIO_LUST\n",
      "0    0.105498   ALTERSKATEGORIE_GROB\n",
      "5    0.114512       FINANZ_VORSORGER\n",
      "3    0.126446      FINANZ_MINIMALIST\n",
      "9    0.127539              FINANZTYP\n",
      "18   0.141388         RETOURTYP_BK_S\n",
      "26   0.210825             SEMIO_KULT\n",
      "20   0.232030              SEMIO_FAM\n",
      "19   0.246319              SEMIO_SOZ\n",
      "23   0.320555             SEMIO_VERT\n"
     ]
    }
   ],
   "source": [
    "# Map weights for the third principal component to corresponding feature names\n",
    "# and then print the linked values, sorted by weight.\n",
    "show_component(2)\n"
   ]
  },
  {
   "cell_type": "markdown",
   "metadata": {},
   "source": [
    "### Discussion 2.3: Interpret Principal Components\n",
    "\n",
    "<ul>\n",
    "<li>All the parameters in the 'FINANZ' category shows different aspect of ones' financial personalities, so it makes sense that they are highly correlated. </li>\n",
    "    \n",
    "<li>The parameters in the 'LP' category shows life stage and family style, so they are also highly correlated.</li>\n",
    "\n",
    "<li>The parameters in the 'SEMIO' category shows personality typology. So as some personalties are likely to go along or against the other, they are highly correlated with each other. </li>\n",
    "</ul>"
   ]
  },
  {
   "cell_type": "markdown",
   "metadata": {},
   "source": [
    "## Step 3: Clustering\n",
    "\n",
    "### Step 3.1: Apply Clustering to General Population\n",
    "\n",
    "You've assessed and cleaned the demographics data, then scaled and transformed them. Now, it's time to see how the data clusters in the principal components space. In this substep, you will apply k-means clustering to the dataset and use the average within-cluster distances from each point to their assigned cluster's centroid to decide on a number of clusters to keep.\n",
    "\n",
    "- Use sklearn's [KMeans](http://scikit-learn.org/stable/modules/generated/sklearn.cluster.KMeans.html#sklearn.cluster.KMeans) class to perform k-means clustering on the PCA-transformed data.\n",
    "- Then, compute the average difference from each point to its assigned cluster's center. **Hint**: The KMeans object's `.score()` method might be useful here, but note that in sklearn, scores tend to be defined so that larger is better. Try applying it to a small, toy dataset, or use an internet search to help your understanding.\n",
    "- Perform the above two steps for a number of different cluster counts. You can then see how the average distance decreases with an increasing number of clusters. However, each additional cluster provides a smaller net benefit. Use this fact to select a final number of clusters in which to group the data. **Warning**: because of the large size of the dataset, it can take a long time for the algorithm to resolve. The more clusters to fit, the longer the algorithm will take. You should test for cluster counts through at least 10 clusters to get the full picture, but you shouldn't need to test for a number of clusters above about 30.\n",
    "- Once you've selected a final number of clusters to use, re-fit a KMeans instance to perform the clustering operation. Make sure that you also obtain the cluster assignments for the general demographics data, since you'll be using them in the final Step 3.3."
   ]
  },
  {
   "cell_type": "code",
   "execution_count": 172,
   "metadata": {},
   "outputs": [
    {
     "name": "stdout",
     "output_type": "stream",
     "text": [
      "-28452703.8605\n"
     ]
    }
   ],
   "source": [
    "# Over a number of different cluster counts...\n",
    "from sklearn.cluster import KMeans\n",
    "\n",
    "kmeans = KMeans(n_clusters=2, random_state=0).fit(azdias_19)\n",
    "score = kmeans.score(azdias_19)\n",
    "print(score)\n",
    "\n",
    "    # run k-means clustering on the data and...\n",
    "    \n",
    "    \n",
    "    # compute the average within-cluster distances."
   ]
  },
  {
   "cell_type": "code",
   "execution_count": 173,
   "metadata": {},
   "outputs": [
    {
     "name": "stdout",
     "output_type": "stream",
     "text": [
      "4:-23234708.775680833\n",
      "6:-20715497.19025776\n",
      "8:-19265016.25097966\n",
      "10:-18060451.78831554\n",
      "12:-17071751.015791044\n",
      "14:-16305602.434780395\n",
      "16:-15794567.828949025\n"
     ]
    },
    {
     "data": {
      "text/plain": [
       "[<matplotlib.lines.Line2D at 0x7f3cac08db38>]"
      ]
     },
     "execution_count": 173,
     "metadata": {},
     "output_type": "execute_result"
    },
    {
     "data": {
      "image/png": "[encoded data removed]",
      "text/plain": [
       "<matplotlib.figure.Figure at 0x7f3cf3820f28>"
      ]
     },
     "metadata": {
      "needs_background": "light"
     },
     "output_type": "display_data"
    }
   ],
   "source": [
    "# Investigate the change in within-cluster distance across number of clusters.\n",
    "# HINT: Use matplotlib's plot function to visualize this relationship.\n",
    "n_cluster = np.linspace(4,16,7).astype(int)\n",
    "n_score = []\n",
    "for i in n_cluster:\n",
    "    kmeans = KMeans(n_clusters=i, random_state=0).fit(azdias_19)\n",
    "    score = kmeans.score(azdias_19)\n",
    "    n_score.append(score)\n",
    "    print('{}:{}'.format(i,score))\n",
    "plt.plot(n_cluster,n_score)"
   ]
  },
  {
   "cell_type": "code",
   "execution_count": 174,
   "metadata": {},
   "outputs": [],
   "source": [
    "# Re-fit the k-means model with the selected number of clusters and obtain\n",
    "# cluster predictions for the general population demographics data.\n",
    "kmeans = KMeans(n_clusters=10, random_state=0).fit(azdias_19)\n",
    "score = kmeans.score(azdias_19)"
   ]
  },
  {
   "cell_type": "markdown",
   "metadata": {},
   "source": [
    "### Discussion 3.1: Apply Clustering to General Population\n",
    "\n",
    "The score curve as a function of n_clusters has an elbow near n_clusters = 10. Therefore I choose to set n_clusters = 10."
   ]
  },
  {
   "cell_type": "markdown",
   "metadata": {},
   "source": [
    "### Step 3.2: Apply All Steps to the Customer Data\n",
    "\n",
    "Now that you have clusters and cluster centers for the general population, it's time to see how the customer data maps on to those clusters. Take care to not confuse this for re-fitting all of the models to the customer data. Instead, you're going to use the fits from the general population to clean, transform, and cluster the customer data. In the last step of the project, you will interpret how the general population fits apply to the customer data.\n",
    "\n",
    "- Don't forget when loading in the customers data, that it is semicolon (`;`) delimited.\n",
    "- Apply the same feature wrangling, selection, and engineering steps to the customer demographics using the `clean_data()` function you created earlier. (You can assume that the customer demographics data has similar meaning behind missing data patterns as the general demographics data.)\n",
    "- Use the sklearn objects from the general demographics data, and apply their transformations to the customers data. That is, you should not be using a `.fit()` or `.fit_transform()` method to re-fit the old objects, nor should you be creating new sklearn objects! Carry the data through the feature scaling, PCA, and clustering steps, obtaining cluster assignments for all of the data in the customer demographics data."
   ]
  },
  {
   "cell_type": "code",
   "execution_count": 175,
   "metadata": {},
   "outputs": [],
   "source": [
    "# Load in the customer demographics data.\n",
    "customers = pd.read_csv('Udacity_CUSTOMERS_Subset.csv',sep=';')"
   ]
  },
  {
   "cell_type": "code",
   "execution_count": 176,
   "metadata": {},
   "outputs": [
    {
     "name": "stdout",
     "output_type": "stream",
     "text": [
      "3112918\n"
     ]
    }
   ],
   "source": [
    "# Apply preprocessing, feature transformation, and clustering from the general\n",
    "# demographics onto the customer data, obtaining cluster predictions for the\n",
    "# customer demographics data.\n",
    "customers_clean = clean_data(customers)"
   ]
  },
  {
   "cell_type": "code",
   "execution_count": 177,
   "metadata": {},
   "outputs": [
    {
     "data": {
      "text/html": [
       "<div>\n",
       "<style scoped>\n",
       "    .dataframe tbody tr th:only-of-type {\n",
       "        vertical-align: middle;\n",
       "    }\n",
       "\n",
       "    .dataframe tbody tr th {\n",
       "        vertical-align: top;\n",
       "    }\n",
       "\n",
       "    .dataframe thead th {\n",
       "        text-align: right;\n",
       "    }\n",
       "</style>\n",
       "<table border=\"1\" class=\"dataframe\">\n",
       "  <thead>\n",
       "    <tr style=\"text-align: right;\">\n",
       "      <th></th>\n",
       "      <th>ALTERSKATEGORIE_GROB</th>\n",
       "      <th>ANREDE_KZ</th>\n",
       "      <th>CJT_GESAMTTYP</th>\n",
       "      <th>FINANZ_MINIMALIST</th>\n",
       "      <th>FINANZ_SPARER</th>\n",
       "      <th>FINANZ_VORSORGER</th>\n",
       "      <th>FINANZ_ANLEGER</th>\n",
       "      <th>FINANZ_UNAUFFAELLIGER</th>\n",
       "      <th>FINANZ_HAUSBAUER</th>\n",
       "      <th>FINANZTYP</th>\n",
       "      <th>...</th>\n",
       "      <th>BALLRAUM</th>\n",
       "      <th>EWDICHTE</th>\n",
       "      <th>INNENSTADT</th>\n",
       "      <th>GEBAEUDETYP_RASTER</th>\n",
       "      <th>ONLINE_AFFINITAET</th>\n",
       "      <th>ARBEIT</th>\n",
       "      <th>ORTSGR_KLS9</th>\n",
       "      <th>RELAT_AB</th>\n",
       "      <th>wealth</th>\n",
       "      <th>life</th>\n",
       "    </tr>\n",
       "  </thead>\n",
       "  <tbody>\n",
       "    <tr>\n",
       "      <th>0</th>\n",
       "      <td>1.183637</td>\n",
       "      <td>-1.033666</td>\n",
       "      <td>0.991464</td>\n",
       "      <td>1.401804</td>\n",
       "      <td>-1.144199</td>\n",
       "      <td>1.123787</td>\n",
       "      <td>-1.23702</td>\n",
       "      <td>-0.446326</td>\n",
       "      <td>-0.772890</td>\n",
       "      <td>-0.900793</td>\n",
       "      <td>...</td>\n",
       "      <td>-0.527024</td>\n",
       "      <td>-1.124568</td>\n",
       "      <td>-0.274033</td>\n",
       "      <td>0.279609</td>\n",
       "      <td>0.134386</td>\n",
       "      <td>-2.162607</td>\n",
       "      <td>-1.425229</td>\n",
       "      <td>-1.518342</td>\n",
       "      <td>-1.532765</td>\n",
       "      <td>0.079326</td>\n",
       "    </tr>\n",
       "    <tr>\n",
       "      <th>2</th>\n",
       "      <td>1.183637</td>\n",
       "      <td>0.967431</td>\n",
       "      <td>-0.971801</td>\n",
       "      <td>1.401804</td>\n",
       "      <td>-1.144199</td>\n",
       "      <td>1.123787</td>\n",
       "      <td>-1.23702</td>\n",
       "      <td>0.996898</td>\n",
       "      <td>0.653299</td>\n",
       "      <td>-0.900793</td>\n",
       "      <td>...</td>\n",
       "      <td>1.305588</td>\n",
       "      <td>0.038291</td>\n",
       "      <td>-1.753752</td>\n",
       "      <td>-0.807790</td>\n",
       "      <td>-1.150037</td>\n",
       "      <td>-0.164702</td>\n",
       "      <td>-0.123317</td>\n",
       "      <td>-0.047887</td>\n",
       "      <td>-0.168026</td>\n",
       "      <td>0.753991</td>\n",
       "    </tr>\n",
       "    <tr>\n",
       "      <th>4</th>\n",
       "      <td>0.209698</td>\n",
       "      <td>-1.033666</td>\n",
       "      <td>1.645885</td>\n",
       "      <td>-0.068989</td>\n",
       "      <td>-1.144199</td>\n",
       "      <td>0.401413</td>\n",
       "      <td>0.83037</td>\n",
       "      <td>1.718509</td>\n",
       "      <td>-0.772890</td>\n",
       "      <td>-0.900793</td>\n",
       "      <td>...</td>\n",
       "      <td>-0.527024</td>\n",
       "      <td>0.038291</td>\n",
       "      <td>-0.274033</td>\n",
       "      <td>-0.807790</td>\n",
       "      <td>1.418809</td>\n",
       "      <td>-0.164702</td>\n",
       "      <td>-0.123317</td>\n",
       "      <td>-1.518342</td>\n",
       "      <td>0.514344</td>\n",
       "      <td>-1.270004</td>\n",
       "    </tr>\n",
       "    <tr>\n",
       "      <th>5</th>\n",
       "      <td>0.209698</td>\n",
       "      <td>-1.033666</td>\n",
       "      <td>0.337042</td>\n",
       "      <td>1.401804</td>\n",
       "      <td>-1.144199</td>\n",
       "      <td>1.123787</td>\n",
       "      <td>-1.23702</td>\n",
       "      <td>-0.446326</td>\n",
       "      <td>-0.059795</td>\n",
       "      <td>0.548681</td>\n",
       "      <td>...</td>\n",
       "      <td>1.305588</td>\n",
       "      <td>0.619720</td>\n",
       "      <td>1.698924</td>\n",
       "      <td>0.279609</td>\n",
       "      <td>0.134386</td>\n",
       "      <td>-0.164702</td>\n",
       "      <td>0.744624</td>\n",
       "      <td>1.422568</td>\n",
       "      <td>-0.168026</td>\n",
       "      <td>0.753991</td>\n",
       "    </tr>\n",
       "    <tr>\n",
       "      <th>6</th>\n",
       "      <td>1.183637</td>\n",
       "      <td>-1.033666</td>\n",
       "      <td>-0.971801</td>\n",
       "      <td>1.401804</td>\n",
       "      <td>-1.144199</td>\n",
       "      <td>1.123787</td>\n",
       "      <td>-1.23702</td>\n",
       "      <td>-1.167937</td>\n",
       "      <td>-0.772890</td>\n",
       "      <td>-0.900793</td>\n",
       "      <td>...</td>\n",
       "      <td>0.847435</td>\n",
       "      <td>-1.124568</td>\n",
       "      <td>0.219206</td>\n",
       "      <td>0.279609</td>\n",
       "      <td>0.776597</td>\n",
       "      <td>-1.163655</td>\n",
       "      <td>-0.991259</td>\n",
       "      <td>-0.783115</td>\n",
       "      <td>-0.850396</td>\n",
       "      <td>0.079326</td>\n",
       "    </tr>\n",
       "  </tbody>\n",
       "</table>\n",
       "<p>5 rows × 57 columns</p>\n",
       "</div>"
      ],
      "text/plain": [
       "   ALTERSKATEGORIE_GROB  ANREDE_KZ  CJT_GESAMTTYP  FINANZ_MINIMALIST  \\\n",
       "0              1.183637  -1.033666       0.991464           1.401804   \n",
       "2              1.183637   0.967431      -0.971801           1.401804   \n",
       "4              0.209698  -1.033666       1.645885          -0.068989   \n",
       "5              0.209698  -1.033666       0.337042           1.401804   \n",
       "6              1.183637  -1.033666      -0.971801           1.401804   \n",
       "\n",
       "   FINANZ_SPARER  FINANZ_VORSORGER  FINANZ_ANLEGER  FINANZ_UNAUFFAELLIGER  \\\n",
       "0      -1.144199          1.123787        -1.23702              -0.446326   \n",
       "2      -1.144199          1.123787        -1.23702               0.996898   \n",
       "4      -1.144199          0.401413         0.83037               1.718509   \n",
       "5      -1.144199          1.123787        -1.23702              -0.446326   \n",
       "6      -1.144199          1.123787        -1.23702              -1.167937   \n",
       "\n",
       "   FINANZ_HAUSBAUER  FINANZTYP    ...     BALLRAUM  EWDICHTE  INNENSTADT  \\\n",
       "0         -0.772890  -0.900793    ...    -0.527024 -1.124568   -0.274033   \n",
       "2          0.653299  -0.900793    ...     1.305588  0.038291   -1.753752   \n",
       "4         -0.772890  -0.900793    ...    -0.527024  0.038291   -0.274033   \n",
       "5         -0.059795   0.548681    ...     1.305588  0.619720    1.698924   \n",
       "6         -0.772890  -0.900793    ...     0.847435 -1.124568    0.219206   \n",
       "\n",
       "   GEBAEUDETYP_RASTER  ONLINE_AFFINITAET    ARBEIT  ORTSGR_KLS9  RELAT_AB  \\\n",
       "0            0.279609           0.134386 -2.162607    -1.425229 -1.518342   \n",
       "2           -0.807790          -1.150037 -0.164702    -0.123317 -0.047887   \n",
       "4           -0.807790           1.418809 -0.164702    -0.123317 -1.518342   \n",
       "5            0.279609           0.134386 -0.164702     0.744624  1.422568   \n",
       "6            0.279609           0.776597 -1.163655    -0.991259 -0.783115   \n",
       "\n",
       "     wealth      life  \n",
       "0 -1.532765  0.079326  \n",
       "2 -0.168026  0.753991  \n",
       "4  0.514344 -1.270004  \n",
       "5 -0.168026  0.753991  \n",
       "6 -0.850396  0.079326  \n",
       "\n",
       "[5 rows x 57 columns]"
      ]
     },
     "execution_count": 177,
     "metadata": {},
     "output_type": "execute_result"
    }
   ],
   "source": [
    "customers_normalized = scaler.transform(customers_clean)\n",
    "customers_normalized= pd.DataFrame(data=customers_normalized,index=customers_clean.index,columns=customers_clean.columns)\n",
    "customers_normalized.head()"
   ]
  },
  {
   "cell_type": "code",
   "execution_count": 178,
   "metadata": {},
   "outputs": [
    {
     "data": {
      "text/plain": [
       "(130290, 19)"
      ]
     },
     "execution_count": 178,
     "metadata": {},
     "output_type": "execute_result"
    }
   ],
   "source": [
    "customers_pca = pca_19.transform(customers_normalized)\n",
    "customers_pca.shape"
   ]
  },
  {
   "cell_type": "code",
   "execution_count": 179,
   "metadata": {},
   "outputs": [
    {
     "data": {
      "text/plain": [
       "(130290, 10)"
      ]
     },
     "execution_count": 179,
     "metadata": {},
     "output_type": "execute_result"
    }
   ],
   "source": [
    "customers_kmeans = kmeans.transform(customers_pca)\n",
    "customers_kmeans.shape"
   ]
  },
  {
   "cell_type": "markdown",
   "metadata": {},
   "source": [
    "### Step 3.3: Compare Customer Data to Demographics Data\n",
    "\n",
    "At this point, you have clustered data based on demographics of the general population of Germany, and seen how the customer data for a mail-order sales company maps onto those demographic clusters. In this final substep, you will compare the two cluster distributions to see where the strongest customer base for the company is.\n",
    "\n",
    "Consider the proportion of persons in each cluster for the general population, and the proportions for the customers. If we think the company's customer base to be universal, then the cluster assignment proportions should be fairly similar between the two. If there are only particular segments of the population that are interested in the company's products, then we should see a mismatch from one to the other. If there is a higher proportion of persons in a cluster for the customer data compared to the general population (e.g. 5% of persons are assigned to a cluster for the general population, but 15% of the customer data is closest to that cluster's centroid) then that suggests the people in that cluster to be a target audience for the company. On the other hand, the proportion of the data in a cluster being larger in the general population than the customer data (e.g. only 2% of customers closest to a population centroid that captures 6% of the data) suggests that group of persons to be outside of the target demographics.\n",
    "\n",
    "Take a look at the following points in this step:\n",
    "\n",
    "- Compute the proportion of data points in each cluster for the general population and the customer data. Visualizations will be useful here: both for the individual dataset proportions, but also to visualize the ratios in cluster representation between groups. Seaborn's [`countplot()`](https://seaborn.pydata.org/generated/seaborn.countplot.html) or [`barplot()`](https://seaborn.pydata.org/generated/seaborn.barplot.html) function could be handy.\n",
    "  - Recall the analysis you performed in step 1.1.3 of the project, where you separated out certain data points from the dataset if they had more than a specified threshold of missing values. If you found that this group was qualitatively different from the main bulk of the data, you should treat this as an additional data cluster in this analysis. Make sure that you account for the number of data points in this subset, for both the general population and customer datasets, when making your computations!\n",
    "- Which cluster or clusters are overrepresented in the customer dataset compared to the general population? Select at least one such cluster and infer what kind of people might be represented by that cluster. Use the principal component interpretations from step 2.3 or look at additional components to help you make this inference. Alternatively, you can use the `.inverse_transform()` method of the PCA and StandardScaler objects to transform centroids back to the original data space and interpret the retrieved values directly.\n",
    "- Perform a similar investigation for the underrepresented clusters. Which cluster or clusters are underrepresented in the customer dataset compared to the general population, and what kinds of people are typified by these clusters?"
   ]
  },
  {
   "cell_type": "code",
   "execution_count": 180,
   "metadata": {},
   "outputs": [],
   "source": [
    "# Compare the proportion of data in each cluster for the customer data to the\n",
    "# proportion of data in each cluster for the general population.\n",
    "from collections import Counter\n",
    "universal_kmean = pd.Series(kmeans.predict(azdias_19))\n",
    "customer_kmean = pd.Series(kmeans.predict(customers_pca))\n",
    "classes = np.linspace(1,9,9).astype(int)\n",
    "universal = [Counter(universal_kmean)[i] for i in classes]\n",
    "universal = universal/np.sum(universal)\n",
    "customer = [Counter(customer_kmean)[i] for i in classes]\n",
    "customer = customer/np.sum(customer)"
   ]
  },
  {
   "cell_type": "code",
   "execution_count": 192,
   "metadata": {},
   "outputs": [
    {
     "data": {
      "text/plain": [
       "<matplotlib.axes._subplots.AxesSubplot at 0x7f3bc7026748>"
      ]
     },
     "execution_count": 192,
     "metadata": {},
     "output_type": "execute_result"
    },
    {
     "data": {
      "image/png": "[encoded data removed]",
      "text/plain": [
       "<matplotlib.figure.Figure at 0x7f3bc7061710>"
      ]
     },
     "metadata": {
      "needs_background": "light"
     },
     "output_type": "display_data"
    }
   ],
   "source": [
    "#sns.barplot(universal_kmean)\n",
    "df = pd.DataFrame({\n",
    "    'Class': classes,\n",
    "    'General': universal,\n",
    "    'Customer': customer\n",
    "})\n",
    "\n",
    "df_1 = df.melt(id_vars='Class').rename(columns=str.title)\n",
    "\n",
    "df_1.columns = ['Class', 'Data','Percentage']\n",
    "fig, ax = plt.subplots(figsize=(5, 3),dpi=100)\n",
    "sns.barplot(x='Class', y='Percentage', hue='Data', data=df_1, ax=ax, alpha=0.7)"
   ]
  },
  {
   "cell_type": "code",
   "execution_count": 239,
   "metadata": {
    "scrolled": true
   },
   "outputs": [
    {
     "data": {
      "image/png": "[encoded data removed]",
      "text/plain": [
       "<matplotlib.figure.Figure at 0x7f3c04c8a908>"
      ]
     },
     "metadata": {
      "needs_background": "light"
     },
     "output_type": "display_data"
    }
   ],
   "source": [
    "# What kinds of people are part of a cluster that is overrepresented in the\n",
    "# customer data compared to the general population?\n",
    "def get_original(group):\n",
    "    df = pd.DataFrame(index = azdias_mixed.columns)\n",
    "    for i in group:\n",
    "        kmean_center = kmeans.cluster_centers_[i]\n",
    "        reverse = pca_19.inverse_transform(kmean_center)\n",
    "        df[str(i)+' normalized']=reverse\n",
    "        #reverse = scaler.inverse_transform(reverse)\n",
    "        #df[str(i)+' value']=reverse\n",
    "    \n",
    "    #print(df)\n",
    "    return df\n",
    "df_like = get_original([5,6])\n",
    "df_dislike = get_original([1,9])\n",
    "df = pd.concat([df_like,df_dislike],axis=1)\n",
    "df['index']=df_like.index\n",
    "df_melt = df.melt(id_vars='index')\n",
    "fig, ax = plt.subplots(figsize=(18, 3),dpi=100)\n",
    "#print(df_like_melt)\n",
    "g = sns.barplot(x='index', y='value', hue='variable', data=df_melt, ax=ax, alpha=1)\n",
    "plt.setp(ax.get_xticklabels(), rotation=90);\n"
   ]
  },
  {
   "cell_type": "code",
   "execution_count": 238,
   "metadata": {},
   "outputs": [],
   "source": [
    "# What kinds of people are part of a cluster that is underrepresented in the\n",
    "# customer data compared to the general population?\n",
    "get_original([1,9]);\n",
    " "
   ]
  },
  {
   "cell_type": "markdown",
   "metadata": {},
   "source": [
    "### Discussion 3.3: Compare Customer Data to Demographics Data\n",
    "\n",
    "By comparing the general and customer population ratio in each group, the company is popular among Group 5 and 6 and least popular among Group 1 and 9. Looking at the centroids of these four groups, we can tell that Group 5,6 is \n",
    "<ul>\n",
    "<li>older</li>\n",
    "    <li>more identified as having low financial interest, be prepared</li>\n",
    "    <li>less identified as money-saver, investor, inconspicuous</li>\n",
    "    <li>more likely to be member of green avantgarde</li>\n",
    "    <li>more likely to be house owners and higher earners</li>\n",
    "    <li>less rational, dutiful, and tradional-minded</li>\n",
    "    <li>higher household net income</li>\n",
    "    <li>less unemployment in their community</li>\n",
    "    <li>more likely to be higher or higher-middle class </li>\n",
    "</ul>\n",
    "compared to Group 1 and 9.\n",
    "\n"
   ]
  },
  {
   "cell_type": "markdown",
   "metadata": {},
   "source": [
    "> Congratulations on making it this far in the project! Before you finish, make sure to check through the entire notebook from top to bottom to make sure that your analysis follows a logical flow and all of your findings are documented in **Discussion** cells. Once you've checked over all of your work, you should export the notebook as an HTML document to submit for evaluation. You can do this from the menu, navigating to **File -> Download as -> HTML (.html)**. You will submit both that document and this notebook for your project submission."
   ]
  },
  {
   "cell_type": "code",
   "execution_count": null,
   "metadata": {},
   "outputs": [],
   "source": []
  }
 ],
 "metadata": {
  "kernelspec": {
   "display_name": "Python 3",
   "language": "python",
   "name": "python3"
  },
  "language_info": {
   "codemirror_mode": {
    "name": "ipython",
    "version": 3
   },
   "file_extension": ".py",
   "mimetype": "text/x-python",
   "name": "python",
   "nbconvert_exporter": "python",
   "pygments_lexer": "ipython3",
   "version": "3.6.3"
  }
 },
 "nbformat": 4,
 "nbformat_minor": 2
}
